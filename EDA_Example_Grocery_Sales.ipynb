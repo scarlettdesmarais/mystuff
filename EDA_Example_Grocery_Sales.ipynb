{
 "cells": [
  {
   "cell_type": "markdown",
   "metadata": {},
   "source": [
    "# Exploratory Data Analysis Example\n",
    "- In preparation for step 2: recommender system"
   ]
  },
  {
   "cell_type": "markdown",
   "metadata": {},
   "source": [
    "#### Libraries"
   ]
  },
  {
   "cell_type": "code",
   "execution_count": 1,
   "metadata": {},
   "outputs": [],
   "source": [
    "import pandas as pd\n",
    "import numpy as np\n",
    "\n",
    "import os\n",
    "\n",
    "import sklearn\n",
    "import seaborn as sns\n",
    "import matplotlib.pyplot as plt\n",
    "from matplotlib.ticker import MaxNLocator\n",
    "\n",
    "import re\n",
    "from datetime import datetime\n",
    "import seaborn as sns\n",
    "%matplotlib inline\n",
    "\n",
    "from IPython.core.interactiveshell import InteractiveShell\n",
    "InteractiveShell.ast_node_interactivity = \"all\""
   ]
  },
  {
   "cell_type": "markdown",
   "metadata": {},
   "source": [
    "#### Read in data"
   ]
  },
  {
   "cell_type": "code",
   "execution_count": 2,
   "metadata": {},
   "outputs": [
    {
     "data": {
      "text/html": [
       "<div>\n",
       "<style scoped>\n",
       "    .dataframe tbody tr th:only-of-type {\n",
       "        vertical-align: middle;\n",
       "    }\n",
       "\n",
       "    .dataframe tbody tr th {\n",
       "        vertical-align: top;\n",
       "    }\n",
       "\n",
       "    .dataframe thead th {\n",
       "        text-align: right;\n",
       "    }\n",
       "</style>\n",
       "<table border=\"1\" class=\"dataframe\">\n",
       "  <thead>\n",
       "    <tr style=\"text-align: right;\">\n",
       "      <th></th>\n",
       "      <th>Member</th>\n",
       "      <th>Order</th>\n",
       "      <th>SKU</th>\n",
       "      <th>Created On</th>\n",
       "      <th>Description</th>\n",
       "    </tr>\n",
       "  </thead>\n",
       "  <tbody>\n",
       "    <tr>\n",
       "      <th>0</th>\n",
       "      <td>M09736</td>\n",
       "      <td>6468572</td>\n",
       "      <td>34993740</td>\n",
       "      <td>22-09-2014 22:45</td>\n",
       "      <td>Other Sauces</td>\n",
       "    </tr>\n",
       "    <tr>\n",
       "      <th>1</th>\n",
       "      <td>M09736</td>\n",
       "      <td>6468572</td>\n",
       "      <td>15669800</td>\n",
       "      <td>22-09-2014 22:45</td>\n",
       "      <td>Cashews</td>\n",
       "    </tr>\n",
       "    <tr>\n",
       "      <th>2</th>\n",
       "      <td>M09736</td>\n",
       "      <td>6468572</td>\n",
       "      <td>34989501</td>\n",
       "      <td>22-09-2014 22:45</td>\n",
       "      <td>Other Dals</td>\n",
       "    </tr>\n",
       "    <tr>\n",
       "      <th>3</th>\n",
       "      <td>M09736</td>\n",
       "      <td>6468572</td>\n",
       "      <td>7572303</td>\n",
       "      <td>22-09-2014 22:45</td>\n",
       "      <td>Namkeen</td>\n",
       "    </tr>\n",
       "    <tr>\n",
       "      <th>4</th>\n",
       "      <td>M09736</td>\n",
       "      <td>6468572</td>\n",
       "      <td>15669856</td>\n",
       "      <td>22-09-2014 22:45</td>\n",
       "      <td>Sugar</td>\n",
       "    </tr>\n",
       "    <tr>\n",
       "      <th>...</th>\n",
       "      <td>...</td>\n",
       "      <td>...</td>\n",
       "      <td>...</td>\n",
       "      <td>...</td>\n",
       "      <td>...</td>\n",
       "    </tr>\n",
       "    <tr>\n",
       "      <th>95</th>\n",
       "      <td>M09736</td>\n",
       "      <td>6638454</td>\n",
       "      <td>15669830</td>\n",
       "      <td>2014-10-08 09:40:00</td>\n",
       "      <td>Other Rice Products</td>\n",
       "    </tr>\n",
       "    <tr>\n",
       "      <th>96</th>\n",
       "      <td>M09736</td>\n",
       "      <td>6638454</td>\n",
       "      <td>7572303</td>\n",
       "      <td>2014-10-08 09:40:00</td>\n",
       "      <td>Namkeen</td>\n",
       "    </tr>\n",
       "    <tr>\n",
       "      <th>97</th>\n",
       "      <td>M09736</td>\n",
       "      <td>6638454</td>\n",
       "      <td>15668688</td>\n",
       "      <td>2014-10-08 09:40:00</td>\n",
       "      <td>Root Vegetables</td>\n",
       "    </tr>\n",
       "    <tr>\n",
       "      <th>98</th>\n",
       "      <td>M09736</td>\n",
       "      <td>6638454</td>\n",
       "      <td>15668685</td>\n",
       "      <td>2014-10-08 09:40:00</td>\n",
       "      <td>Beans</td>\n",
       "    </tr>\n",
       "    <tr>\n",
       "      <th>99</th>\n",
       "      <td>M09736</td>\n",
       "      <td>6638454</td>\n",
       "      <td>15669856</td>\n",
       "      <td>2014-10-08 09:40:00</td>\n",
       "      <td>Sugar</td>\n",
       "    </tr>\n",
       "  </tbody>\n",
       "</table>\n",
       "<p>100 rows × 5 columns</p>\n",
       "</div>"
      ],
      "text/plain": [
       "    Member    Order       SKU           Created On          Description\n",
       "0   M09736  6468572  34993740     22-09-2014 22:45         Other Sauces\n",
       "1   M09736  6468572  15669800     22-09-2014 22:45              Cashews\n",
       "2   M09736  6468572  34989501     22-09-2014 22:45           Other Dals\n",
       "3   M09736  6468572   7572303     22-09-2014 22:45              Namkeen\n",
       "4   M09736  6468572  15669856     22-09-2014 22:45                Sugar\n",
       "..     ...      ...       ...                  ...                  ...\n",
       "95  M09736  6638454  15669830  2014-10-08 09:40:00  Other Rice Products\n",
       "96  M09736  6638454   7572303  2014-10-08 09:40:00              Namkeen\n",
       "97  M09736  6638454  15668688  2014-10-08 09:40:00      Root Vegetables\n",
       "98  M09736  6638454  15668685  2014-10-08 09:40:00                Beans\n",
       "99  M09736  6638454  15669856  2014-10-08 09:40:00                Sugar\n",
       "\n",
       "[100 rows x 5 columns]"
      ]
     },
     "execution_count": 2,
     "metadata": {},
     "output_type": "execute_result"
    }
   ],
   "source": [
    "df = pd.read_excel('C:/Users/scarl/Documents/Data/Grocery_Exhibits.xls', \n",
    "                   sheet_name='POS DATA',\n",
    "                      parse_dates=True)\n",
    "\n",
    "df.head(100)"
   ]
  },
  {
   "cell_type": "markdown",
   "metadata": {},
   "source": [
    "#### Data cleaning"
   ]
  },
  {
   "cell_type": "code",
   "execution_count": 3,
   "metadata": {},
   "outputs": [
    {
     "data": {
      "text/plain": [
       "Member         0\n",
       "Order          0\n",
       "SKU            0\n",
       "Created On     0\n",
       "Description    0\n",
       "dtype: int64"
      ]
     },
     "execution_count": 3,
     "metadata": {},
     "output_type": "execute_result"
    }
   ],
   "source": [
    "# Missing value check\n",
    "df.isna().sum()"
   ]
  },
  {
   "cell_type": "code",
   "execution_count": 4,
   "metadata": {},
   "outputs": [
    {
     "data": {
      "text/html": [
       "<div>\n",
       "<style scoped>\n",
       "    .dataframe tbody tr th:only-of-type {\n",
       "        vertical-align: middle;\n",
       "    }\n",
       "\n",
       "    .dataframe tbody tr th {\n",
       "        vertical-align: top;\n",
       "    }\n",
       "\n",
       "    .dataframe thead th {\n",
       "        text-align: right;\n",
       "    }\n",
       "</style>\n",
       "<table border=\"1\" class=\"dataframe\">\n",
       "  <thead>\n",
       "    <tr style=\"text-align: right;\">\n",
       "      <th></th>\n",
       "      <th>Member</th>\n",
       "      <th>Order</th>\n",
       "      <th>SKU</th>\n",
       "      <th>Created_On</th>\n",
       "      <th>Description</th>\n",
       "      <th>Sales</th>\n",
       "      <th>date1</th>\n",
       "      <th>date2</th>\n",
       "    </tr>\n",
       "  </thead>\n",
       "  <tbody>\n",
       "    <tr>\n",
       "      <th>0</th>\n",
       "      <td>9736</td>\n",
       "      <td>6468572</td>\n",
       "      <td>34993740</td>\n",
       "      <td>22-09-2014 22:45</td>\n",
       "      <td>Other_Sauces</td>\n",
       "      <td>1</td>\n",
       "      <td>NaT</td>\n",
       "      <td>2014-09-22 22:45:00</td>\n",
       "    </tr>\n",
       "    <tr>\n",
       "      <th>1</th>\n",
       "      <td>9736</td>\n",
       "      <td>6468572</td>\n",
       "      <td>15669800</td>\n",
       "      <td>22-09-2014 22:45</td>\n",
       "      <td>Cashews</td>\n",
       "      <td>1</td>\n",
       "      <td>NaT</td>\n",
       "      <td>2014-09-22 22:45:00</td>\n",
       "    </tr>\n",
       "    <tr>\n",
       "      <th>2</th>\n",
       "      <td>9736</td>\n",
       "      <td>6468572</td>\n",
       "      <td>34989501</td>\n",
       "      <td>22-09-2014 22:45</td>\n",
       "      <td>Other_Dals</td>\n",
       "      <td>1</td>\n",
       "      <td>NaT</td>\n",
       "      <td>2014-09-22 22:45:00</td>\n",
       "    </tr>\n",
       "    <tr>\n",
       "      <th>3</th>\n",
       "      <td>9736</td>\n",
       "      <td>6468572</td>\n",
       "      <td>7572303</td>\n",
       "      <td>22-09-2014 22:45</td>\n",
       "      <td>Namkeen</td>\n",
       "      <td>1</td>\n",
       "      <td>NaT</td>\n",
       "      <td>2014-09-22 22:45:00</td>\n",
       "    </tr>\n",
       "    <tr>\n",
       "      <th>4</th>\n",
       "      <td>9736</td>\n",
       "      <td>6468572</td>\n",
       "      <td>15669856</td>\n",
       "      <td>22-09-2014 22:45</td>\n",
       "      <td>Sugar</td>\n",
       "      <td>1</td>\n",
       "      <td>NaT</td>\n",
       "      <td>2014-09-22 22:45:00</td>\n",
       "    </tr>\n",
       "    <tr>\n",
       "      <th>...</th>\n",
       "      <td>...</td>\n",
       "      <td>...</td>\n",
       "      <td>...</td>\n",
       "      <td>...</td>\n",
       "      <td>...</td>\n",
       "      <td>...</td>\n",
       "      <td>...</td>\n",
       "      <td>...</td>\n",
       "    </tr>\n",
       "    <tr>\n",
       "      <th>95</th>\n",
       "      <td>9736</td>\n",
       "      <td>6638454</td>\n",
       "      <td>15669830</td>\n",
       "      <td>2014-10-08 09:40:00</td>\n",
       "      <td>Other_Rice_Products</td>\n",
       "      <td>1</td>\n",
       "      <td>2014-10-08 09:40:00</td>\n",
       "      <td>NaT</td>\n",
       "    </tr>\n",
       "    <tr>\n",
       "      <th>96</th>\n",
       "      <td>9736</td>\n",
       "      <td>6638454</td>\n",
       "      <td>7572303</td>\n",
       "      <td>2014-10-08 09:40:00</td>\n",
       "      <td>Namkeen</td>\n",
       "      <td>1</td>\n",
       "      <td>2014-10-08 09:40:00</td>\n",
       "      <td>NaT</td>\n",
       "    </tr>\n",
       "    <tr>\n",
       "      <th>97</th>\n",
       "      <td>9736</td>\n",
       "      <td>6638454</td>\n",
       "      <td>15668688</td>\n",
       "      <td>2014-10-08 09:40:00</td>\n",
       "      <td>Root_Vegetables</td>\n",
       "      <td>1</td>\n",
       "      <td>2014-10-08 09:40:00</td>\n",
       "      <td>NaT</td>\n",
       "    </tr>\n",
       "    <tr>\n",
       "      <th>98</th>\n",
       "      <td>9736</td>\n",
       "      <td>6638454</td>\n",
       "      <td>15668685</td>\n",
       "      <td>2014-10-08 09:40:00</td>\n",
       "      <td>Beans</td>\n",
       "      <td>1</td>\n",
       "      <td>2014-10-08 09:40:00</td>\n",
       "      <td>NaT</td>\n",
       "    </tr>\n",
       "    <tr>\n",
       "      <th>99</th>\n",
       "      <td>9736</td>\n",
       "      <td>6638454</td>\n",
       "      <td>15669856</td>\n",
       "      <td>2014-10-08 09:40:00</td>\n",
       "      <td>Sugar</td>\n",
       "      <td>1</td>\n",
       "      <td>2014-10-08 09:40:00</td>\n",
       "      <td>NaT</td>\n",
       "    </tr>\n",
       "  </tbody>\n",
       "</table>\n",
       "<p>100 rows × 8 columns</p>\n",
       "</div>"
      ],
      "text/plain": [
       "    Member    Order       SKU           Created_On          Description  \\\n",
       "0     9736  6468572  34993740     22-09-2014 22:45         Other_Sauces   \n",
       "1     9736  6468572  15669800     22-09-2014 22:45              Cashews   \n",
       "2     9736  6468572  34989501     22-09-2014 22:45           Other_Dals   \n",
       "3     9736  6468572   7572303     22-09-2014 22:45              Namkeen   \n",
       "4     9736  6468572  15669856     22-09-2014 22:45                Sugar   \n",
       "..     ...      ...       ...                  ...                  ...   \n",
       "95    9736  6638454  15669830  2014-10-08 09:40:00  Other_Rice_Products   \n",
       "96    9736  6638454   7572303  2014-10-08 09:40:00              Namkeen   \n",
       "97    9736  6638454  15668688  2014-10-08 09:40:00      Root_Vegetables   \n",
       "98    9736  6638454  15668685  2014-10-08 09:40:00                Beans   \n",
       "99    9736  6638454  15669856  2014-10-08 09:40:00                Sugar   \n",
       "\n",
       "    Sales               date1               date2  \n",
       "0       1                 NaT 2014-09-22 22:45:00  \n",
       "1       1                 NaT 2014-09-22 22:45:00  \n",
       "2       1                 NaT 2014-09-22 22:45:00  \n",
       "3       1                 NaT 2014-09-22 22:45:00  \n",
       "4       1                 NaT 2014-09-22 22:45:00  \n",
       "..    ...                 ...                 ...  \n",
       "95      1 2014-10-08 09:40:00                 NaT  \n",
       "96      1 2014-10-08 09:40:00                 NaT  \n",
       "97      1 2014-10-08 09:40:00                 NaT  \n",
       "98      1 2014-10-08 09:40:00                 NaT  \n",
       "99      1 2014-10-08 09:40:00                 NaT  \n",
       "\n",
       "[100 rows x 8 columns]"
      ]
     },
     "execution_count": 4,
     "metadata": {},
     "output_type": "execute_result"
    }
   ],
   "source": [
    "df = df.replace(['CFLs,cfls,7832553,2,0\\r\\n7831582,Channa Dal,channa-dal,7832491,2,0\\r\\n7832360,Cheese,cheese,7832363,2,0\\r\\n7831689,Chewing Gum,chewing-gum,7831685,2,0\\r\\n7832047,ChildrenS Books'],'CFLs')\n",
    "df.columns = df.columns.str.replace(' ','_') # removing spaces from feature names\n",
    "df.Description = df.Description.str.replace(' ','_') # removing spaces from values\n",
    "\n",
    "df['Member'] = df['Member'].str[1:] # removing non-numerics from Member identifier\n",
    "df['Member'] = pd.to_numeric(df['Member']) # converting to numeric\n",
    "\n",
    "df['Sales'] = 1 # adding sales indicator\n",
    "\n",
    "# Correcting date formatting : Step 1\n",
    "df['date1'] = pd.to_datetime(df['Created_On'], errors='coerce', format='%Y-%m-%d %H:%M')\n",
    "df['date2'] = pd.to_datetime(df['Created_On'], errors='coerce', format='%d-%m-%Y %H:%M')\n",
    "\n",
    "df.head(100)"
   ]
  },
  {
   "cell_type": "code",
   "execution_count": 5,
   "metadata": {},
   "outputs": [
    {
     "data": {
      "text/html": [
       "<div>\n",
       "<style scoped>\n",
       "    .dataframe tbody tr th:only-of-type {\n",
       "        vertical-align: middle;\n",
       "    }\n",
       "\n",
       "    .dataframe tbody tr th {\n",
       "        vertical-align: top;\n",
       "    }\n",
       "\n",
       "    .dataframe thead th {\n",
       "        text-align: right;\n",
       "    }\n",
       "</style>\n",
       "<table border=\"1\" class=\"dataframe\">\n",
       "  <thead>\n",
       "    <tr style=\"text-align: right;\">\n",
       "      <th></th>\n",
       "      <th>Member</th>\n",
       "      <th>Order</th>\n",
       "      <th>SKU</th>\n",
       "      <th>Created_On</th>\n",
       "      <th>Description</th>\n",
       "      <th>Sales</th>\n",
       "      <th>date1</th>\n",
       "      <th>date2</th>\n",
       "    </tr>\n",
       "  </thead>\n",
       "  <tbody>\n",
       "    <tr>\n",
       "      <th>0</th>\n",
       "      <td>9736</td>\n",
       "      <td>6468572</td>\n",
       "      <td>34993740</td>\n",
       "      <td>2014-09-22 22:45:00</td>\n",
       "      <td>Other_Sauces</td>\n",
       "      <td>1</td>\n",
       "      <td>NaT</td>\n",
       "      <td>2014-09-22 22:45:00</td>\n",
       "    </tr>\n",
       "    <tr>\n",
       "      <th>1</th>\n",
       "      <td>9736</td>\n",
       "      <td>6468572</td>\n",
       "      <td>15669800</td>\n",
       "      <td>2014-09-22 22:45:00</td>\n",
       "      <td>Cashews</td>\n",
       "      <td>1</td>\n",
       "      <td>NaT</td>\n",
       "      <td>2014-09-22 22:45:00</td>\n",
       "    </tr>\n",
       "    <tr>\n",
       "      <th>2</th>\n",
       "      <td>9736</td>\n",
       "      <td>6468572</td>\n",
       "      <td>34989501</td>\n",
       "      <td>2014-09-22 22:45:00</td>\n",
       "      <td>Other_Dals</td>\n",
       "      <td>1</td>\n",
       "      <td>NaT</td>\n",
       "      <td>2014-09-22 22:45:00</td>\n",
       "    </tr>\n",
       "    <tr>\n",
       "      <th>3</th>\n",
       "      <td>9736</td>\n",
       "      <td>6468572</td>\n",
       "      <td>7572303</td>\n",
       "      <td>2014-09-22 22:45:00</td>\n",
       "      <td>Namkeen</td>\n",
       "      <td>1</td>\n",
       "      <td>NaT</td>\n",
       "      <td>2014-09-22 22:45:00</td>\n",
       "    </tr>\n",
       "    <tr>\n",
       "      <th>4</th>\n",
       "      <td>9736</td>\n",
       "      <td>6468572</td>\n",
       "      <td>15669856</td>\n",
       "      <td>2014-09-22 22:45:00</td>\n",
       "      <td>Sugar</td>\n",
       "      <td>1</td>\n",
       "      <td>NaT</td>\n",
       "      <td>2014-09-22 22:45:00</td>\n",
       "    </tr>\n",
       "    <tr>\n",
       "      <th>...</th>\n",
       "      <td>...</td>\n",
       "      <td>...</td>\n",
       "      <td>...</td>\n",
       "      <td>...</td>\n",
       "      <td>...</td>\n",
       "      <td>...</td>\n",
       "      <td>...</td>\n",
       "      <td>...</td>\n",
       "    </tr>\n",
       "    <tr>\n",
       "      <th>95</th>\n",
       "      <td>9736</td>\n",
       "      <td>6638454</td>\n",
       "      <td>15669830</td>\n",
       "      <td>2014-10-08 09:40:00</td>\n",
       "      <td>Other_Rice_Products</td>\n",
       "      <td>1</td>\n",
       "      <td>2014-10-08 09:40:00</td>\n",
       "      <td>NaT</td>\n",
       "    </tr>\n",
       "    <tr>\n",
       "      <th>96</th>\n",
       "      <td>9736</td>\n",
       "      <td>6638454</td>\n",
       "      <td>7572303</td>\n",
       "      <td>2014-10-08 09:40:00</td>\n",
       "      <td>Namkeen</td>\n",
       "      <td>1</td>\n",
       "      <td>2014-10-08 09:40:00</td>\n",
       "      <td>NaT</td>\n",
       "    </tr>\n",
       "    <tr>\n",
       "      <th>97</th>\n",
       "      <td>9736</td>\n",
       "      <td>6638454</td>\n",
       "      <td>15668688</td>\n",
       "      <td>2014-10-08 09:40:00</td>\n",
       "      <td>Root_Vegetables</td>\n",
       "      <td>1</td>\n",
       "      <td>2014-10-08 09:40:00</td>\n",
       "      <td>NaT</td>\n",
       "    </tr>\n",
       "    <tr>\n",
       "      <th>98</th>\n",
       "      <td>9736</td>\n",
       "      <td>6638454</td>\n",
       "      <td>15668685</td>\n",
       "      <td>2014-10-08 09:40:00</td>\n",
       "      <td>Beans</td>\n",
       "      <td>1</td>\n",
       "      <td>2014-10-08 09:40:00</td>\n",
       "      <td>NaT</td>\n",
       "    </tr>\n",
       "    <tr>\n",
       "      <th>99</th>\n",
       "      <td>9736</td>\n",
       "      <td>6638454</td>\n",
       "      <td>15669856</td>\n",
       "      <td>2014-10-08 09:40:00</td>\n",
       "      <td>Sugar</td>\n",
       "      <td>1</td>\n",
       "      <td>2014-10-08 09:40:00</td>\n",
       "      <td>NaT</td>\n",
       "    </tr>\n",
       "  </tbody>\n",
       "</table>\n",
       "<p>100 rows × 8 columns</p>\n",
       "</div>"
      ],
      "text/plain": [
       "    Member    Order       SKU          Created_On          Description  Sales  \\\n",
       "0     9736  6468572  34993740 2014-09-22 22:45:00         Other_Sauces      1   \n",
       "1     9736  6468572  15669800 2014-09-22 22:45:00              Cashews      1   \n",
       "2     9736  6468572  34989501 2014-09-22 22:45:00           Other_Dals      1   \n",
       "3     9736  6468572   7572303 2014-09-22 22:45:00              Namkeen      1   \n",
       "4     9736  6468572  15669856 2014-09-22 22:45:00                Sugar      1   \n",
       "..     ...      ...       ...                 ...                  ...    ...   \n",
       "95    9736  6638454  15669830 2014-10-08 09:40:00  Other_Rice_Products      1   \n",
       "96    9736  6638454   7572303 2014-10-08 09:40:00              Namkeen      1   \n",
       "97    9736  6638454  15668688 2014-10-08 09:40:00      Root_Vegetables      1   \n",
       "98    9736  6638454  15668685 2014-10-08 09:40:00                Beans      1   \n",
       "99    9736  6638454  15669856 2014-10-08 09:40:00                Sugar      1   \n",
       "\n",
       "                 date1               date2  \n",
       "0                  NaT 2014-09-22 22:45:00  \n",
       "1                  NaT 2014-09-22 22:45:00  \n",
       "2                  NaT 2014-09-22 22:45:00  \n",
       "3                  NaT 2014-09-22 22:45:00  \n",
       "4                  NaT 2014-09-22 22:45:00  \n",
       "..                 ...                 ...  \n",
       "95 2014-10-08 09:40:00                 NaT  \n",
       "96 2014-10-08 09:40:00                 NaT  \n",
       "97 2014-10-08 09:40:00                 NaT  \n",
       "98 2014-10-08 09:40:00                 NaT  \n",
       "99 2014-10-08 09:40:00                 NaT  \n",
       "\n",
       "[100 rows x 8 columns]"
      ]
     },
     "execution_count": 5,
     "metadata": {},
     "output_type": "execute_result"
    }
   ],
   "source": [
    "# Correcting date formatting : Step 2\n",
    "df['Created_On'] = df['date1'].fillna(df['date2'])\n",
    "df['Created_On'] = pd.to_datetime(df['Created_On'], errors='coerce', format='%Y-%m-%d %H:%M')\n",
    "df.head(100)"
   ]
  },
  {
   "cell_type": "code",
   "execution_count": 6,
   "metadata": {},
   "outputs": [
    {
     "data": {
      "text/html": [
       "<div>\n",
       "<style scoped>\n",
       "    .dataframe tbody tr th:only-of-type {\n",
       "        vertical-align: middle;\n",
       "    }\n",
       "\n",
       "    .dataframe tbody tr th {\n",
       "        vertical-align: top;\n",
       "    }\n",
       "\n",
       "    .dataframe thead th {\n",
       "        text-align: right;\n",
       "    }\n",
       "</style>\n",
       "<table border=\"1\" class=\"dataframe\">\n",
       "  <thead>\n",
       "    <tr style=\"text-align: right;\">\n",
       "      <th></th>\n",
       "      <th>Member</th>\n",
       "      <th>Order</th>\n",
       "      <th>SKU</th>\n",
       "      <th>Created_On</th>\n",
       "      <th>Description</th>\n",
       "      <th>Sales</th>\n",
       "    </tr>\n",
       "  </thead>\n",
       "  <tbody>\n",
       "    <tr>\n",
       "      <th>0</th>\n",
       "      <td>9736</td>\n",
       "      <td>6468572</td>\n",
       "      <td>34993740</td>\n",
       "      <td>2014-09-22 22:45:00</td>\n",
       "      <td>Other_Sauces</td>\n",
       "      <td>1</td>\n",
       "    </tr>\n",
       "    <tr>\n",
       "      <th>1</th>\n",
       "      <td>9736</td>\n",
       "      <td>6468572</td>\n",
       "      <td>15669800</td>\n",
       "      <td>2014-09-22 22:45:00</td>\n",
       "      <td>Cashews</td>\n",
       "      <td>1</td>\n",
       "    </tr>\n",
       "    <tr>\n",
       "      <th>2</th>\n",
       "      <td>9736</td>\n",
       "      <td>6468572</td>\n",
       "      <td>34989501</td>\n",
       "      <td>2014-09-22 22:45:00</td>\n",
       "      <td>Other_Dals</td>\n",
       "      <td>1</td>\n",
       "    </tr>\n",
       "    <tr>\n",
       "      <th>3</th>\n",
       "      <td>9736</td>\n",
       "      <td>6468572</td>\n",
       "      <td>7572303</td>\n",
       "      <td>2014-09-22 22:45:00</td>\n",
       "      <td>Namkeen</td>\n",
       "      <td>1</td>\n",
       "    </tr>\n",
       "    <tr>\n",
       "      <th>4</th>\n",
       "      <td>9736</td>\n",
       "      <td>6468572</td>\n",
       "      <td>15669856</td>\n",
       "      <td>2014-09-22 22:45:00</td>\n",
       "      <td>Sugar</td>\n",
       "      <td>1</td>\n",
       "    </tr>\n",
       "    <tr>\n",
       "      <th>...</th>\n",
       "      <td>...</td>\n",
       "      <td>...</td>\n",
       "      <td>...</td>\n",
       "      <td>...</td>\n",
       "      <td>...</td>\n",
       "      <td>...</td>\n",
       "    </tr>\n",
       "    <tr>\n",
       "      <th>95</th>\n",
       "      <td>9736</td>\n",
       "      <td>6638454</td>\n",
       "      <td>15669830</td>\n",
       "      <td>2014-10-08 09:40:00</td>\n",
       "      <td>Other_Rice_Products</td>\n",
       "      <td>1</td>\n",
       "    </tr>\n",
       "    <tr>\n",
       "      <th>96</th>\n",
       "      <td>9736</td>\n",
       "      <td>6638454</td>\n",
       "      <td>7572303</td>\n",
       "      <td>2014-10-08 09:40:00</td>\n",
       "      <td>Namkeen</td>\n",
       "      <td>1</td>\n",
       "    </tr>\n",
       "    <tr>\n",
       "      <th>97</th>\n",
       "      <td>9736</td>\n",
       "      <td>6638454</td>\n",
       "      <td>15668688</td>\n",
       "      <td>2014-10-08 09:40:00</td>\n",
       "      <td>Root_Vegetables</td>\n",
       "      <td>1</td>\n",
       "    </tr>\n",
       "    <tr>\n",
       "      <th>98</th>\n",
       "      <td>9736</td>\n",
       "      <td>6638454</td>\n",
       "      <td>15668685</td>\n",
       "      <td>2014-10-08 09:40:00</td>\n",
       "      <td>Beans</td>\n",
       "      <td>1</td>\n",
       "    </tr>\n",
       "    <tr>\n",
       "      <th>99</th>\n",
       "      <td>9736</td>\n",
       "      <td>6638454</td>\n",
       "      <td>15669856</td>\n",
       "      <td>2014-10-08 09:40:00</td>\n",
       "      <td>Sugar</td>\n",
       "      <td>1</td>\n",
       "    </tr>\n",
       "  </tbody>\n",
       "</table>\n",
       "<p>100 rows × 6 columns</p>\n",
       "</div>"
      ],
      "text/plain": [
       "    Member    Order       SKU          Created_On          Description  Sales\n",
       "0     9736  6468572  34993740 2014-09-22 22:45:00         Other_Sauces      1\n",
       "1     9736  6468572  15669800 2014-09-22 22:45:00              Cashews      1\n",
       "2     9736  6468572  34989501 2014-09-22 22:45:00           Other_Dals      1\n",
       "3     9736  6468572   7572303 2014-09-22 22:45:00              Namkeen      1\n",
       "4     9736  6468572  15669856 2014-09-22 22:45:00                Sugar      1\n",
       "..     ...      ...       ...                 ...                  ...    ...\n",
       "95    9736  6638454  15669830 2014-10-08 09:40:00  Other_Rice_Products      1\n",
       "96    9736  6638454   7572303 2014-10-08 09:40:00              Namkeen      1\n",
       "97    9736  6638454  15668688 2014-10-08 09:40:00      Root_Vegetables      1\n",
       "98    9736  6638454  15668685 2014-10-08 09:40:00                Beans      1\n",
       "99    9736  6638454  15669856 2014-10-08 09:40:00                Sugar      1\n",
       "\n",
       "[100 rows x 6 columns]"
      ]
     },
     "execution_count": 6,
     "metadata": {},
     "output_type": "execute_result"
    }
   ],
   "source": [
    "# Date formatting: Dropping the extra date features\n",
    "df.drop(['date1', 'date2'], axis=1, inplace=True) # dropping unncessessary features\n",
    "\n",
    "df.head(100)"
   ]
  },
  {
   "cell_type": "markdown",
   "metadata": {},
   "source": [
    "## Exploratory Data Analysis"
   ]
  },
  {
   "cell_type": "markdown",
   "metadata": {},
   "source": [
    "#### Dataset info"
   ]
  },
  {
   "cell_type": "code",
   "execution_count": 7,
   "metadata": {},
   "outputs": [
    {
     "name": "stdout",
     "output_type": "stream",
     "text": [
      "Number of categories:  216\n",
      "Number of different items:  1732\n",
      "Number of customers:  106\n",
      "Number of orders:  8387\n",
      "Earliest order date:  2011-03-12 10:18:00\n",
      "Latest order date:  2014-12-09 21:35:00\n",
      "Dataset timeframe:  1368 days 11:17:00\n"
     ]
    }
   ],
   "source": [
    "print('Number of categories: ', df.Description.nunique())\n",
    "print('Number of different items: ', df.SKU.nunique())\n",
    "print('Number of customers: ', df.Member.nunique())\n",
    "print('Number of orders: ', df.Order.nunique())\n",
    "print('Earliest order date: ', df.Created_On.min())\n",
    "print('Latest order date: ', df.Created_On.max())\n",
    "print('Dataset timeframe: ', df.Created_On.max()-df.Created_On.min())"
   ]
  },
  {
   "cell_type": "markdown",
   "metadata": {},
   "source": [
    "#### Distribution of Features"
   ]
  },
  {
   "cell_type": "code",
   "execution_count": 8,
   "metadata": {},
   "outputs": [
    {
     "name": "stdout",
     "output_type": "stream",
     "text": [
      "(62141, 6)\n",
      "   Member    Order       SKU          Created_On   Description  Sales\n",
      "0    9736  6468572  34993740 2014-09-22 22:45:00  Other_Sauces      1\n",
      "1    9736  6468572  15669800 2014-09-22 22:45:00       Cashews      1\n",
      "2    9736  6468572  34989501 2014-09-22 22:45:00    Other_Dals      1\n",
      "3    9736  6468572   7572303 2014-09-22 22:45:00       Namkeen      1\n",
      "4    9736  6468572  15669856 2014-09-22 22:45:00         Sugar      1\n",
      "       Member    Order       SKU          Created_On            Description  \\\n",
      "62136   64379  8381435  15670260 2013-11-16 00:43:00            Organic_F&V   \n",
      "62137   64379  8381435  15668597 2013-11-16 00:43:00      Exotic_Vegetables   \n",
      "62138   64379  8381435   7570555 2013-11-16 00:43:00            Shoe_Polish   \n",
      "62139   64379  8381435   7587490 2013-11-16 00:43:00  Organic_Dals_&_Pulses   \n",
      "62140   64379  8381435  15669830 2013-11-16 00:43:00    Other_Rice_Products   \n",
      "\n",
      "       Sales  \n",
      "62136      1  \n",
      "62137      1  \n",
      "62138      1  \n",
      "62139      1  \n",
      "62140      1  \n",
      "<class 'pandas.core.frame.DataFrame'>\n",
      "RangeIndex: 62141 entries, 0 to 62140\n",
      "Data columns (total 6 columns):\n",
      " #   Column       Non-Null Count  Dtype         \n",
      "---  ------       --------------  -----         \n",
      " 0   Member       62141 non-null  int64         \n",
      " 1   Order        62141 non-null  int64         \n",
      " 2   SKU          62141 non-null  int64         \n",
      " 3   Created_On   62141 non-null  datetime64[ns]\n",
      " 4   Description  62141 non-null  object        \n",
      " 5   Sales        62141 non-null  int64         \n",
      "dtypes: datetime64[ns](1), int64(4), object(1)\n",
      "memory usage: 2.6+ MB\n",
      "None\n",
      "            Member         Order           SKU    Sales\n",
      "count  62141.00000  6.214100e+04  6.214100e+04  62141.0\n",
      "mean   45670.93452  7.642313e+06  1.774323e+07      1.0\n",
      "std    19003.41621  5.131117e+05  1.442477e+07      0.0\n",
      "min     4158.00000  6.422558e+06  6.884195e+06      1.0\n",
      "25%    33558.00000  7.457967e+06  1.566838e+07      1.0\n",
      "50%    43831.00000  7.725501e+06  1.566852e+07      1.0\n",
      "75%    56309.00000  8.006749e+06  1.566987e+07      1.0\n",
      "max    99206.00000  8.388492e+06  9.331950e+07      1.0\n"
     ]
    }
   ],
   "source": [
    "print(df.shape)\n",
    "print(df.head())\n",
    "print(df.tail())\n",
    "print(df.info())\n",
    "print(df.describe())"
   ]
  },
  {
   "cell_type": "markdown",
   "metadata": {},
   "source": [
    "#### Most popular items"
   ]
  },
  {
   "cell_type": "code",
   "execution_count": 9,
   "metadata": {},
   "outputs": [
    {
     "data": {
      "text/plain": [
       "<Figure size 1440x1080 with 0 Axes>"
      ]
     },
     "execution_count": 9,
     "metadata": {},
     "output_type": "execute_result"
    },
    {
     "data": {
      "text/plain": [
       "<AxesSubplot:xlabel='Description', ylabel='Order'>"
      ]
     },
     "execution_count": 9,
     "metadata": {},
     "output_type": "execute_result"
    },
    {
     "data": {
      "text/plain": [
       "Text(0.5, 1.0, 'Most Frequently Ordered Items')"
      ]
     },
     "execution_count": 9,
     "metadata": {},
     "output_type": "execute_result"
    },
    {
     "data": {
      "text/plain": [
       "(array([ 0,  1,  2,  3,  4,  5,  6,  7,  8,  9, 10, 11, 12, 13, 14, 15, 16,\n",
       "        17, 18, 19, 20, 21, 22, 23, 24, 25, 26, 27, 28, 29, 30, 31, 32, 33,\n",
       "        34, 35, 36, 37, 38, 39, 40, 41, 42, 43, 44, 45, 46, 47, 48, 49]),\n",
       " [Text(0, 0, 'Other_Vegetables'),\n",
       "  Text(1, 0, 'Beans'),\n",
       "  Text(2, 0, 'Root_Vegetables'),\n",
       "  Text(3, 0, 'Other_Dals'),\n",
       "  Text(4, 0, 'Organic_F&V'),\n",
       "  Text(5, 0, 'Whole_Spices'),\n",
       "  Text(6, 0, 'Gourd_&_Cucumber'),\n",
       "  Text(7, 0, 'Brinjals'),\n",
       "  Text(8, 0, 'Namkeen'),\n",
       "  Text(9, 0, 'Banana'),\n",
       "  Text(10, 0, 'Exotic_Vegetables'),\n",
       "  Text(11, 0, 'Moong_Dal'),\n",
       "  Text(12, 0, 'Sugar'),\n",
       "  Text(13, 0, 'Toor_Dal'),\n",
       "  Text(14, 0, 'Sooji_&_Rava'),\n",
       "  Text(15, 0, 'Raw_Rice'),\n",
       "  Text(16, 0, 'Bread'),\n",
       "  Text(17, 0, 'Urad_Dal'),\n",
       "  Text(18, 0, 'Organic_Dals_&_Pulses'),\n",
       "  Text(19, 0, 'Sunflower_Oils'),\n",
       "  Text(20, 0, 'Avalakki_/_Poha'),\n",
       "  Text(21, 0, 'Other_Rice_Products'),\n",
       "  Text(22, 0, 'Cream_Biscuits'),\n",
       "  Text(23, 0, 'Other_Dry_Fruits'),\n",
       "  Text(24, 0, 'Boiled_Rice'),\n",
       "  Text(25, 0, 'Cashews'),\n",
       "  Text(26, 0, 'Almonds'),\n",
       "  Text(27, 0, 'Health_Drinks'),\n",
       "  Text(28, 0, 'Raw_Peanuts'),\n",
       "  Text(29, 0, 'Besan'),\n",
       "  Text(30, 0, 'Glucose,_Marie_&_Milk_Biscuits'),\n",
       "  Text(31, 0, 'Maida'),\n",
       "  Text(32, 0, 'Organic_Masalas_&_Spices'),\n",
       "  Text(33, 0, 'Raisins'),\n",
       "  Text(34, 0, 'Snacky_Nuts'),\n",
       "  Text(35, 0, 'Yogurt_&_Lassi'),\n",
       "  Text(36, 0, 'Chips'),\n",
       "  Text(37, 0, 'Liquid_Soaps_&_Bars'),\n",
       "  Text(38, 0, 'Organic_Rice_&_Rice_Products'),\n",
       "  Text(39, 0, 'Ground_Coffee'),\n",
       "  Text(40, 0, 'Jaggery'),\n",
       "  Text(41, 0, 'Ghee'),\n",
       "  Text(42, 0, 'Mosquito_Repellent'),\n",
       "  Text(43, 0, 'Cooking_Paste'),\n",
       "  Text(44, 0, 'Basmati_Rice'),\n",
       "  Text(45, 0, 'Organic_Flours'),\n",
       "  Text(46, 0, 'Curd'),\n",
       "  Text(47, 0, 'Ice_Creams_&_Desserts'),\n",
       "  Text(48, 0, 'Cookies'),\n",
       "  Text(49, 0, 'Honey')])"
      ]
     },
     "execution_count": 9,
     "metadata": {},
     "output_type": "execute_result"
    },
    {
     "data": {
      "image/png": "[encoded data removed]",
      "text/plain": [
       "<Figure size 1440x1080 with 1 Axes>"
      ]
     },
     "metadata": {
      "needs_background": "light"
     },
     "output_type": "display_data"
    }
   ],
   "source": [
    "top = 50\n",
    "Product_freq = df.groupby('Description')['Order'].count().reset_index()\n",
    "Product_freq = Product_freq.sort_values(by = 'Order', ascending=False)\n",
    "Product_freq = Product_freq[:top]\n",
    "plt.figure(figsize = (20,15))\n",
    "sns.barplot(x= Product_freq['Description'], y=Product_freq['Order'])\n",
    "plt.title('Most Frequently Ordered Items')\n",
    "plt.xticks(rotation = 'vertical', size=15)"
   ]
  },
  {
   "cell_type": "markdown",
   "metadata": {},
   "source": [
    "#### Number of orders per customer"
   ]
  },
  {
   "cell_type": "code",
   "execution_count": 10,
   "metadata": {},
   "outputs": [
    {
     "data": {
      "text/plain": [
       "Member\n",
       "36432    203\n",
       "33064    178\n",
       "33491    156\n",
       "42182    139\n",
       "38622    139\n",
       "31966    137\n",
       "42513    133\n",
       "4158     132\n",
       "45470    126\n",
       "48101    124\n",
       "Name: Order, dtype: int64"
      ]
     },
     "execution_count": 10,
     "metadata": {},
     "output_type": "execute_result"
    },
    {
     "name": "stdout",
     "output_type": "stream",
     "text": [
      "Average number of orders per customer: 79.12\n"
     ]
    }
   ],
   "source": [
    "df2 = df.groupby('Member')['Order'].nunique().sort_values(ascending=False)\n",
    "df2.head(10)\n",
    "\n",
    "print('Average number of orders per customer: {:.2f}'.format(df2.mean())) "
   ]
  },
  {
   "cell_type": "markdown",
   "metadata": {},
   "source": [
    "#### Number of items per order"
   ]
  },
  {
   "cell_type": "code",
   "execution_count": 11,
   "metadata": {},
   "outputs": [
    {
     "data": {
      "text/plain": [
       "Order\n",
       "6738016    42\n",
       "6438096    41\n",
       "7696664    38\n",
       "6506666    37\n",
       "7597091    36\n",
       "7487874    35\n",
       "8272082    35\n",
       "7829763    35\n",
       "7684742    34\n",
       "6664439    34\n",
       "Name: SKU, dtype: int64"
      ]
     },
     "execution_count": 11,
     "metadata": {},
     "output_type": "execute_result"
    },
    {
     "name": "stdout",
     "output_type": "stream",
     "text": [
      "Average number of items per order: 7.41\n"
     ]
    }
   ],
   "source": [
    "df3 = df.groupby('Order')['SKU'].nunique().sort_values(ascending=False)\n",
    "df3.head(10)\n",
    "\n",
    "print('Average number of items per order: {:.2f}'.format(df3.mean())) "
   ]
  },
  {
   "cell_type": "markdown",
   "metadata": {},
   "source": [
    "#### Timestamp Analysis"
   ]
  },
  {
   "cell_type": "code",
   "execution_count": 12,
   "metadata": {},
   "outputs": [
    {
     "data": {
      "text/html": [
       "<div>\n",
       "<style scoped>\n",
       "    .dataframe tbody tr th:only-of-type {\n",
       "        vertical-align: middle;\n",
       "    }\n",
       "\n",
       "    .dataframe tbody tr th {\n",
       "        vertical-align: top;\n",
       "    }\n",
       "\n",
       "    .dataframe thead th {\n",
       "        text-align: right;\n",
       "    }\n",
       "</style>\n",
       "<table border=\"1\" class=\"dataframe\">\n",
       "  <thead>\n",
       "    <tr style=\"text-align: right;\">\n",
       "      <th></th>\n",
       "      <th>Member</th>\n",
       "      <th>Order</th>\n",
       "      <th>SKU</th>\n",
       "      <th>Created_On</th>\n",
       "      <th>Description</th>\n",
       "      <th>Sales</th>\n",
       "      <th>Year</th>\n",
       "      <th>Month</th>\n",
       "      <th>Day_of_Month</th>\n",
       "      <th>Day_of_Week</th>\n",
       "      <th>Time</th>\n",
       "    </tr>\n",
       "  </thead>\n",
       "  <tbody>\n",
       "    <tr>\n",
       "      <th>0</th>\n",
       "      <td>9736</td>\n",
       "      <td>6468572</td>\n",
       "      <td>34993740</td>\n",
       "      <td>2014-09-22 22:45:00</td>\n",
       "      <td>Other_Sauces</td>\n",
       "      <td>1</td>\n",
       "      <td>2014</td>\n",
       "      <td>9</td>\n",
       "      <td>22</td>\n",
       "      <td>0</td>\n",
       "      <td>22:45:00</td>\n",
       "    </tr>\n",
       "    <tr>\n",
       "      <th>1</th>\n",
       "      <td>9736</td>\n",
       "      <td>6468572</td>\n",
       "      <td>15669800</td>\n",
       "      <td>2014-09-22 22:45:00</td>\n",
       "      <td>Cashews</td>\n",
       "      <td>1</td>\n",
       "      <td>2014</td>\n",
       "      <td>9</td>\n",
       "      <td>22</td>\n",
       "      <td>0</td>\n",
       "      <td>22:45:00</td>\n",
       "    </tr>\n",
       "    <tr>\n",
       "      <th>2</th>\n",
       "      <td>9736</td>\n",
       "      <td>6468572</td>\n",
       "      <td>34989501</td>\n",
       "      <td>2014-09-22 22:45:00</td>\n",
       "      <td>Other_Dals</td>\n",
       "      <td>1</td>\n",
       "      <td>2014</td>\n",
       "      <td>9</td>\n",
       "      <td>22</td>\n",
       "      <td>0</td>\n",
       "      <td>22:45:00</td>\n",
       "    </tr>\n",
       "    <tr>\n",
       "      <th>3</th>\n",
       "      <td>9736</td>\n",
       "      <td>6468572</td>\n",
       "      <td>7572303</td>\n",
       "      <td>2014-09-22 22:45:00</td>\n",
       "      <td>Namkeen</td>\n",
       "      <td>1</td>\n",
       "      <td>2014</td>\n",
       "      <td>9</td>\n",
       "      <td>22</td>\n",
       "      <td>0</td>\n",
       "      <td>22:45:00</td>\n",
       "    </tr>\n",
       "    <tr>\n",
       "      <th>4</th>\n",
       "      <td>9736</td>\n",
       "      <td>6468572</td>\n",
       "      <td>15669856</td>\n",
       "      <td>2014-09-22 22:45:00</td>\n",
       "      <td>Sugar</td>\n",
       "      <td>1</td>\n",
       "      <td>2014</td>\n",
       "      <td>9</td>\n",
       "      <td>22</td>\n",
       "      <td>0</td>\n",
       "      <td>22:45:00</td>\n",
       "    </tr>\n",
       "  </tbody>\n",
       "</table>\n",
       "</div>"
      ],
      "text/plain": [
       "   Member    Order       SKU          Created_On   Description  Sales  Year  \\\n",
       "0    9736  6468572  34993740 2014-09-22 22:45:00  Other_Sauces      1  2014   \n",
       "1    9736  6468572  15669800 2014-09-22 22:45:00       Cashews      1  2014   \n",
       "2    9736  6468572  34989501 2014-09-22 22:45:00    Other_Dals      1  2014   \n",
       "3    9736  6468572   7572303 2014-09-22 22:45:00       Namkeen      1  2014   \n",
       "4    9736  6468572  15669856 2014-09-22 22:45:00         Sugar      1  2014   \n",
       "\n",
       "   Month  Day_of_Month  Day_of_Week      Time  \n",
       "0      9            22            0  22:45:00  \n",
       "1      9            22            0  22:45:00  \n",
       "2      9            22            0  22:45:00  \n",
       "3      9            22            0  22:45:00  \n",
       "4      9            22            0  22:45:00  "
      ]
     },
     "execution_count": 12,
     "metadata": {},
     "output_type": "execute_result"
    }
   ],
   "source": [
    "df4 = df.copy()\n",
    "df4['Year'] = pd.DatetimeIndex(df['Created_On']).year\n",
    "df4['Month'] = pd.DatetimeIndex(df['Created_On']).month\n",
    "df4['Day_of_Month'] = pd.DatetimeIndex(df['Created_On']).day\n",
    "df4['Day_of_Week'] = pd.DatetimeIndex(df['Created_On']).weekday\n",
    "df4['Time'] = pd.DatetimeIndex(df['Created_On']).time\n",
    "\n",
    "df4.head()"
   ]
  },
  {
   "cell_type": "markdown",
   "metadata": {},
   "source": [
    "#### Hour of Day Analysis"
   ]
  },
  {
   "cell_type": "code",
   "execution_count": 13,
   "metadata": {},
   "outputs": [
    {
     "data": {
      "text/plain": [
       "<Figure size 864x360 with 0 Axes>"
      ]
     },
     "execution_count": 13,
     "metadata": {},
     "output_type": "execute_result"
    },
    {
     "name": "stderr",
     "output_type": "stream",
     "text": [
      "c:\\users\\scarl\\appdata\\local\\programs\\python\\python38-32\\lib\\site-packages\\seaborn\\distributions.py:2619: FutureWarning: `distplot` is a deprecated function and will be removed in a future version. Please adapt your code to use either `displot` (a figure-level function with similar flexibility) or `histplot` (an axes-level function for histograms).\n",
      "  warnings.warn(msg, FutureWarning)\n"
     ]
    },
    {
     "data": {
      "text/plain": [
       "[Text(0, 0.5, 'Number of Orders')]"
      ]
     },
     "execution_count": 13,
     "metadata": {},
     "output_type": "execute_result"
    },
    {
     "data": {
      "text/plain": [
       "Text(0.5, 1.0, 'Hour of Day Order is Placed')"
      ]
     },
     "execution_count": 13,
     "metadata": {},
     "output_type": "execute_result"
    },
    {
     "data": {
      "image/png": "[encoded data removed]",
      "text/plain": [
       "<Figure size 864x360 with 1 Axes>"
      ]
     },
     "metadata": {
      "needs_background": "light"
     },
     "output_type": "display_data"
    }
   ],
   "source": [
    "df4['Hour'] = df4['Time'].apply(lambda x: x.hour) \n",
    "\n",
    "plt.figure(figsize = (12,5))\n",
    "ax = sns.distplot(df4['Hour'], kde = False, bins = 24, color='#0AFEB2')\n",
    "ax.set(ylabel='Number of Orders')\n",
    "\n",
    "plt.title('Hour of Day Order is Placed')"
   ]
  },
  {
   "cell_type": "markdown",
   "metadata": {},
   "source": [
    "#### Day of Week Analysis"
   ]
  },
  {
   "cell_type": "code",
   "execution_count": 14,
   "metadata": {},
   "outputs": [
    {
     "data": {
      "text/plain": [
       "<Figure size 864x360 with 0 Axes>"
      ]
     },
     "execution_count": 14,
     "metadata": {},
     "output_type": "execute_result"
    },
    {
     "data": {
      "text/plain": [
       "<AxesSubplot:xlabel='Day_of_Week'>"
      ]
     },
     "execution_count": 14,
     "metadata": {},
     "output_type": "execute_result"
    },
    {
     "data": {
      "text/plain": [
       "[Text(17.200000000000003, 0.5, 'Number of Orders')]"
      ]
     },
     "execution_count": 14,
     "metadata": {},
     "output_type": "execute_result"
    },
    {
     "data": {
      "text/plain": [
       "Text(0.5, 1.0, 'Day of Week Order is Placed')"
      ]
     },
     "execution_count": 14,
     "metadata": {},
     "output_type": "execute_result"
    },
    {
     "data": {
      "image/png": "[encoded data removed]",
      "text/plain": [
       "<Figure size 864x360 with 1 Axes>"
      ]
     },
     "metadata": {
      "needs_background": "light"
     },
     "output_type": "display_data"
    }
   ],
   "source": [
    "plt.figure(figsize = (12,5))\n",
    "sns.distplot(df4['Day_of_Week'], kde = False, color='#0AFEB2')\n",
    "ax.set(ylabel='Number of Orders')\n",
    "plt.title('Day of Week Order is Placed')"
   ]
  },
  {
   "cell_type": "markdown",
   "metadata": {},
   "source": [
    "#### Day of Month Analysis"
   ]
  },
  {
   "cell_type": "code",
   "execution_count": 15,
   "metadata": {},
   "outputs": [
    {
     "data": {
      "text/plain": [
       "<Figure size 864x360 with 0 Axes>"
      ]
     },
     "execution_count": 15,
     "metadata": {},
     "output_type": "execute_result"
    },
    {
     "data": {
      "text/plain": [
       "<AxesSubplot:xlabel='Day_of_Month'>"
      ]
     },
     "execution_count": 15,
     "metadata": {},
     "output_type": "execute_result"
    },
    {
     "data": {
      "text/plain": [
       "Text(0.5, 1.0, 'Day of Month Order is Placed')"
      ]
     },
     "execution_count": 15,
     "metadata": {},
     "output_type": "execute_result"
    },
    {
     "data": {
      "image/png": "[encoded data removed]",
      "text/plain": [
       "<Figure size 864x360 with 1 Axes>"
      ]
     },
     "metadata": {
      "needs_background": "light"
     },
     "output_type": "display_data"
    }
   ],
   "source": [
    "plt.figure(figsize = (12,5))\n",
    "sns.distplot(df4['Day_of_Month'], kde = False, bins = 31, color='#0AFEB2')\n",
    "plt.title('Day of Month Order is Placed')"
   ]
  },
  {
   "cell_type": "markdown",
   "metadata": {},
   "source": [
    "#### Total Items Sold by Year"
   ]
  },
  {
   "cell_type": "code",
   "execution_count": 16,
   "metadata": {},
   "outputs": [
    {
     "data": {
      "text/plain": [
       "Year\n",
       "2011      117\n",
       "2012     9792\n",
       "2013    28077\n",
       "2014    24155\n",
       "Name: Sales, dtype: int64"
      ]
     },
     "execution_count": 16,
     "metadata": {},
     "output_type": "execute_result"
    }
   ],
   "source": [
    "df4.groupby('Year')['Sales'].count()"
   ]
  },
  {
   "cell_type": "code",
   "execution_count": 17,
   "metadata": {},
   "outputs": [
    {
     "name": "stdout",
     "output_type": "stream",
     "text": [
      "Percentage change 2012:  8269.23076923077\n",
      "Percentage change 2013:  186.734068627451\n",
      "Percentage change 2014:  -13.968728852797662\n"
     ]
    }
   ],
   "source": [
    "print('Percentage change 2012: ', (9792-117)/117*100)\n",
    "print('Percentage change 2013: ', (28077-9792)/9792*100)\n",
    "print('Percentage change 2014: ', (24155-28077)/28077*100)"
   ]
  },
  {
   "cell_type": "code",
   "execution_count": 18,
   "metadata": {},
   "outputs": [
    {
     "data": {
      "image/png": "[encoded data removed]",
      "text/plain": [
       "<Figure size 864x360 with 1 Axes>"
      ]
     },
     "metadata": {
      "needs_background": "light"
     },
     "output_type": "display_data"
    }
   ],
   "source": [
    "fig, ax = plt.subplots(1,1,figsize=(12,5))\n",
    "ax.xaxis.set_major_locator(MaxNLocator(integer=True))\n",
    "ax = plt.bar(df4.groupby(['Year']).sum().index,df4.groupby(['Year']).sum()['Sales'], color='#0AFEB2')\n",
    "ax = plt.xlabel('Year', fontsize=18)\n",
    "ax = plt.ylabel('Total Sales', fontsize=18)"
   ]
  },
  {
   "cell_type": "markdown",
   "metadata": {},
   "source": [
    "#### Customers by Year"
   ]
  },
  {
   "cell_type": "code",
   "execution_count": 19,
   "metadata": {},
   "outputs": [
    {
     "data": {
      "text/plain": [
       "Year\n",
       "2011      6\n",
       "2012     81\n",
       "2013    106\n",
       "2014    105\n",
       "Name: Member, dtype: int64"
      ]
     },
     "execution_count": 19,
     "metadata": {},
     "output_type": "execute_result"
    }
   ],
   "source": [
    "df4.groupby('Year')['Member'].nunique()"
   ]
  },
  {
   "cell_type": "code",
   "execution_count": 20,
   "metadata": {},
   "outputs": [
    {
     "name": "stdout",
     "output_type": "stream",
     "text": [
      "Percentage change 2012:  1250.0\n",
      "Percentage change 2013:  30.864197530864196\n",
      "Percentage change 2014:  -0.9433962264150944\n"
     ]
    }
   ],
   "source": [
    "print('Percentage change 2012: ', (81-6)/6*100)\n",
    "print('Percentage change 2013: ', (106-81)/81*100)\n",
    "print('Percentage change 2014: ', (105-106)/106*100)"
   ]
  },
  {
   "cell_type": "code",
   "execution_count": 21,
   "metadata": {},
   "outputs": [
    {
     "data": {
      "image/png": "[encoded data removed]",
      "text/plain": [
       "<Figure size 864x360 with 1 Axes>"
      ]
     },
     "metadata": {
      "needs_background": "light"
     },
     "output_type": "display_data"
    }
   ],
   "source": [
    "fig, ax = plt.subplots(1,1,figsize=(12,5))\n",
    "ax.xaxis.set_major_locator(MaxNLocator(integer=True))\n",
    "ax = plt.bar(df4.groupby(['Year']).count().index,df4.groupby(['Year']).nunique()['Member'], color='#E94040')\n",
    "ax = plt.xlabel('Year', fontsize=18)\n",
    "ax = plt.ylabel('Total Customers', fontsize=18)"
   ]
  },
  {
   "cell_type": "markdown",
   "metadata": {},
   "source": [
    "#### Orders by Year"
   ]
  },
  {
   "cell_type": "code",
   "execution_count": 22,
   "metadata": {},
   "outputs": [
    {
     "data": {
      "text/plain": [
       "Year\n",
       "2011      20\n",
       "2012    1291\n",
       "2013    3802\n",
       "2014    3274\n",
       "Name: Order, dtype: int64"
      ]
     },
     "execution_count": 22,
     "metadata": {},
     "output_type": "execute_result"
    }
   ],
   "source": [
    "df4.groupby('Year')['Order'].nunique()"
   ]
  },
  {
   "cell_type": "code",
   "execution_count": 23,
   "metadata": {},
   "outputs": [
    {
     "name": "stdout",
     "output_type": "stream",
     "text": [
      "Percentage change 2012:  6355.0\n",
      "Percentage change 2013:  194.50038729666926\n",
      "Percentage change 2014:  -13.887427669647554\n"
     ]
    }
   ],
   "source": [
    "print('Percentage change 2012: ', (1291-20)/20*100)\n",
    "print('Percentage change 2013: ', (3802-1291)/1291*100)\n",
    "print('Percentage change 2014: ', (3274-3802)/3802*100)"
   ]
  },
  {
   "cell_type": "code",
   "execution_count": 24,
   "metadata": {},
   "outputs": [
    {
     "data": {
      "image/png": "[encoded data removed]",
      "text/plain": [
       "<Figure size 864x360 with 1 Axes>"
      ]
     },
     "metadata": {
      "needs_background": "light"
     },
     "output_type": "display_data"
    }
   ],
   "source": [
    "fig, ax = plt.subplots(1,1,figsize=(12,5))\n",
    "ax.xaxis.set_major_locator(MaxNLocator(integer=True))\n",
    "ax = plt.bar(df4.groupby(['Year']).count().index,df4.groupby(['Year']).nunique()['Order'], color='#E94040')\n",
    "ax = plt.xlabel('Year', fontsize=18)\n",
    "ax = plt.ylabel('Total Orders', fontsize=18)"
   ]
  },
  {
   "cell_type": "markdown",
   "metadata": {},
   "source": [
    "#### Time Between Orders"
   ]
  },
  {
   "cell_type": "code",
   "execution_count": 25,
   "metadata": {},
   "outputs": [
    {
     "data": {
      "text/html": [
       "<div>\n",
       "<style scoped>\n",
       "    .dataframe tbody tr th:only-of-type {\n",
       "        vertical-align: middle;\n",
       "    }\n",
       "\n",
       "    .dataframe tbody tr th {\n",
       "        vertical-align: top;\n",
       "    }\n",
       "\n",
       "    .dataframe thead th {\n",
       "        text-align: right;\n",
       "    }\n",
       "</style>\n",
       "<table border=\"1\" class=\"dataframe\">\n",
       "  <thead>\n",
       "    <tr style=\"text-align: right;\">\n",
       "      <th></th>\n",
       "      <th>Member</th>\n",
       "      <th>Created_On</th>\n",
       "      <th>Date</th>\n",
       "    </tr>\n",
       "  </thead>\n",
       "  <tbody>\n",
       "    <tr>\n",
       "      <th>0</th>\n",
       "      <td>4158</td>\n",
       "      <td>2012-04-12 20:09:00</td>\n",
       "      <td>2012-04-12</td>\n",
       "    </tr>\n",
       "    <tr>\n",
       "      <th>1</th>\n",
       "      <td>4158</td>\n",
       "      <td>2012-10-12 20:00:00</td>\n",
       "      <td>2012-10-12</td>\n",
       "    </tr>\n",
       "    <tr>\n",
       "      <th>2</th>\n",
       "      <td>4158</td>\n",
       "      <td>2012-12-16 18:54:00</td>\n",
       "      <td>2012-12-16</td>\n",
       "    </tr>\n",
       "    <tr>\n",
       "      <th>3</th>\n",
       "      <td>4158</td>\n",
       "      <td>2012-12-26 15:22:00</td>\n",
       "      <td>2012-12-26</td>\n",
       "    </tr>\n",
       "    <tr>\n",
       "      <th>4</th>\n",
       "      <td>4158</td>\n",
       "      <td>2013-01-04 17:40:00</td>\n",
       "      <td>2013-01-04</td>\n",
       "    </tr>\n",
       "    <tr>\n",
       "      <th>...</th>\n",
       "      <td>...</td>\n",
       "      <td>...</td>\n",
       "      <td>...</td>\n",
       "    </tr>\n",
       "    <tr>\n",
       "      <th>95</th>\n",
       "      <td>4158</td>\n",
       "      <td>2014-01-30 11:12:00</td>\n",
       "      <td>2014-01-30</td>\n",
       "    </tr>\n",
       "    <tr>\n",
       "      <th>96</th>\n",
       "      <td>4158</td>\n",
       "      <td>2014-02-05 23:45:00</td>\n",
       "      <td>2014-02-05</td>\n",
       "    </tr>\n",
       "    <tr>\n",
       "      <th>97</th>\n",
       "      <td>4158</td>\n",
       "      <td>2014-02-06 12:01:00</td>\n",
       "      <td>2014-02-06</td>\n",
       "    </tr>\n",
       "    <tr>\n",
       "      <th>98</th>\n",
       "      <td>4158</td>\n",
       "      <td>2014-02-07 15:55:00</td>\n",
       "      <td>2014-02-07</td>\n",
       "    </tr>\n",
       "    <tr>\n",
       "      <th>99</th>\n",
       "      <td>4158</td>\n",
       "      <td>2014-02-16 21:48:00</td>\n",
       "      <td>2014-02-16</td>\n",
       "    </tr>\n",
       "  </tbody>\n",
       "</table>\n",
       "<p>100 rows × 3 columns</p>\n",
       "</div>"
      ],
      "text/plain": [
       "    Member          Created_On        Date\n",
       "0     4158 2012-04-12 20:09:00  2012-04-12\n",
       "1     4158 2012-10-12 20:00:00  2012-10-12\n",
       "2     4158 2012-12-16 18:54:00  2012-12-16\n",
       "3     4158 2012-12-26 15:22:00  2012-12-26\n",
       "4     4158 2013-01-04 17:40:00  2013-01-04\n",
       "..     ...                 ...         ...\n",
       "95    4158 2014-01-30 11:12:00  2014-01-30\n",
       "96    4158 2014-02-05 23:45:00  2014-02-05\n",
       "97    4158 2014-02-06 12:01:00  2014-02-06\n",
       "98    4158 2014-02-07 15:55:00  2014-02-07\n",
       "99    4158 2014-02-16 21:48:00  2014-02-16\n",
       "\n",
       "[100 rows x 3 columns]"
      ]
     },
     "execution_count": 25,
     "metadata": {},
     "output_type": "execute_result"
    }
   ],
   "source": [
    "# Creating a new smaller dataset with only the required features\n",
    "df_pos_ordered = df.filter(['Member','Created_On'], axis=1)\n",
    "df_pos_ordered.drop_duplicates(inplace=True)\n",
    "df_pos_ordered = df_pos_ordered.sort_values(['Member', 'Created_On'], ascending=True).reset_index(drop=True)\n",
    "\n",
    "df_pos_ordered['Date'] = pd.DatetimeIndex(df_pos_ordered['Created_On']).date\n",
    "\n",
    "df_pos_ordered.head(100)"
   ]
  },
  {
   "cell_type": "code",
   "execution_count": 26,
   "metadata": {},
   "outputs": [
    {
     "name": "stderr",
     "output_type": "stream",
     "text": [
      "c:\\users\\scarl\\appdata\\local\\programs\\python\\python38-32\\lib\\site-packages\\pandas\\core\\indexing.py:670: SettingWithCopyWarning: \n",
      "A value is trying to be set on a copy of a slice from a DataFrame\n",
      "\n",
      "See the caveats in the documentation: https://pandas.pydata.org/pandas-docs/stable/user_guide/indexing.html#returning-a-view-versus-a-copy\n",
      "  iloc._setitem_with_indexer(indexer, value)\n"
     ]
    },
    {
     "data": {
      "text/html": [
       "<div>\n",
       "<style scoped>\n",
       "    .dataframe tbody tr th:only-of-type {\n",
       "        vertical-align: middle;\n",
       "    }\n",
       "\n",
       "    .dataframe tbody tr th {\n",
       "        vertical-align: top;\n",
       "    }\n",
       "\n",
       "    .dataframe thead th {\n",
       "        text-align: right;\n",
       "    }\n",
       "</style>\n",
       "<table border=\"1\" class=\"dataframe\">\n",
       "  <thead>\n",
       "    <tr style=\"text-align: right;\">\n",
       "      <th></th>\n",
       "      <th>Member</th>\n",
       "      <th>Created_On</th>\n",
       "      <th>Date</th>\n",
       "      <th>Days_Between_Orders</th>\n",
       "    </tr>\n",
       "  </thead>\n",
       "  <tbody>\n",
       "    <tr>\n",
       "      <th>1</th>\n",
       "      <td>4158</td>\n",
       "      <td>2012-10-12 20:00:00</td>\n",
       "      <td>2012-10-12</td>\n",
       "      <td>182 days 23:51:00</td>\n",
       "    </tr>\n",
       "    <tr>\n",
       "      <th>2</th>\n",
       "      <td>4158</td>\n",
       "      <td>2012-12-16 18:54:00</td>\n",
       "      <td>2012-12-16</td>\n",
       "      <td>64 days 22:54:00</td>\n",
       "    </tr>\n",
       "    <tr>\n",
       "      <th>3</th>\n",
       "      <td>4158</td>\n",
       "      <td>2012-12-26 15:22:00</td>\n",
       "      <td>2012-12-26</td>\n",
       "      <td>9 days 20:28:00</td>\n",
       "    </tr>\n",
       "    <tr>\n",
       "      <th>4</th>\n",
       "      <td>4158</td>\n",
       "      <td>2013-01-04 17:40:00</td>\n",
       "      <td>2013-01-04</td>\n",
       "      <td>9 days 02:18:00</td>\n",
       "    </tr>\n",
       "    <tr>\n",
       "      <th>5</th>\n",
       "      <td>4158</td>\n",
       "      <td>2013-01-07 14:00:00</td>\n",
       "      <td>2013-01-07</td>\n",
       "      <td>2 days 20:20:00</td>\n",
       "    </tr>\n",
       "    <tr>\n",
       "      <th>...</th>\n",
       "      <td>...</td>\n",
       "      <td>...</td>\n",
       "      <td>...</td>\n",
       "      <td>...</td>\n",
       "    </tr>\n",
       "    <tr>\n",
       "      <th>1010</th>\n",
       "      <td>31101</td>\n",
       "      <td>2013-02-11 10:26:00</td>\n",
       "      <td>2013-02-11</td>\n",
       "      <td>0 days 15:52:00</td>\n",
       "    </tr>\n",
       "    <tr>\n",
       "      <th>1011</th>\n",
       "      <td>31101</td>\n",
       "      <td>2013-03-06 12:22:00</td>\n",
       "      <td>2013-03-06</td>\n",
       "      <td>23 days 01:56:00</td>\n",
       "    </tr>\n",
       "    <tr>\n",
       "      <th>1012</th>\n",
       "      <td>31101</td>\n",
       "      <td>2013-03-06 16:21:00</td>\n",
       "      <td>2013-03-06</td>\n",
       "      <td>0 days 03:59:00</td>\n",
       "    </tr>\n",
       "    <tr>\n",
       "      <th>1013</th>\n",
       "      <td>31101</td>\n",
       "      <td>2013-03-07 22:00:00</td>\n",
       "      <td>2013-03-07</td>\n",
       "      <td>1 days 05:39:00</td>\n",
       "    </tr>\n",
       "    <tr>\n",
       "      <th>1014</th>\n",
       "      <td>31101</td>\n",
       "      <td>2013-03-09 15:54:00</td>\n",
       "      <td>2013-03-09</td>\n",
       "      <td>1 days 17:54:00</td>\n",
       "    </tr>\n",
       "  </tbody>\n",
       "</table>\n",
       "<p>1000 rows × 4 columns</p>\n",
       "</div>"
      ],
      "text/plain": [
       "      Member          Created_On        Date Days_Between_Orders\n",
       "1       4158 2012-10-12 20:00:00  2012-10-12   182 days 23:51:00\n",
       "2       4158 2012-12-16 18:54:00  2012-12-16    64 days 22:54:00\n",
       "3       4158 2012-12-26 15:22:00  2012-12-26     9 days 20:28:00\n",
       "4       4158 2013-01-04 17:40:00  2013-01-04     9 days 02:18:00\n",
       "5       4158 2013-01-07 14:00:00  2013-01-07     2 days 20:20:00\n",
       "...      ...                 ...         ...                 ...\n",
       "1010   31101 2013-02-11 10:26:00  2013-02-11     0 days 15:52:00\n",
       "1011   31101 2013-03-06 12:22:00  2013-03-06    23 days 01:56:00\n",
       "1012   31101 2013-03-06 16:21:00  2013-03-06     0 days 03:59:00\n",
       "1013   31101 2013-03-07 22:00:00  2013-03-07     1 days 05:39:00\n",
       "1014   31101 2013-03-09 15:54:00  2013-03-09     1 days 17:54:00\n",
       "\n",
       "[1000 rows x 4 columns]"
      ]
     },
     "execution_count": 26,
     "metadata": {},
     "output_type": "execute_result"
    }
   ],
   "source": [
    "# Calculating the days difference between orders placed by same customer - results in timedelta object\n",
    "df_pos_ordered['Days_Between_Orders'] = np.nan\n",
    "\n",
    "for i in range(0,len(df_pos_ordered)):\n",
    "    if df_pos_ordered['Member'].iloc[i] == df_pos_ordered['Member'].iloc[i-1]:\n",
    "            df_pos_ordered['Days_Between_Orders'].iloc[i] = df_pos_ordered['Created_On'].iloc[i] - df_pos_ordered['Created_On'].iloc[i-1] \n",
    "    else:\n",
    "        df_pos_ordered['Days_Between_Orders'].iloc[i] = np.nan\n",
    "\n",
    "df_pos_ordered = df_pos_ordered.dropna()\n",
    "        \n",
    "df_pos_ordered.head(1000)"
   ]
  },
  {
   "cell_type": "code",
   "execution_count": 27,
   "metadata": {
    "scrolled": true
   },
   "outputs": [
    {
     "name": "stderr",
     "output_type": "stream",
     "text": [
      "c:\\users\\scarl\\appdata\\local\\programs\\python\\python38-32\\lib\\site-packages\\pandas\\core\\indexing.py:670: SettingWithCopyWarning: \n",
      "A value is trying to be set on a copy of a slice from a DataFrame\n",
      "\n",
      "See the caveats in the documentation: https://pandas.pydata.org/pandas-docs/stable/user_guide/indexing.html#returning-a-view-versus-a-copy\n",
      "  iloc._setitem_with_indexer(indexer, value)\n"
     ]
    },
    {
     "data": {
      "text/html": [
       "<div>\n",
       "<style scoped>\n",
       "    .dataframe tbody tr th:only-of-type {\n",
       "        vertical-align: middle;\n",
       "    }\n",
       "\n",
       "    .dataframe tbody tr th {\n",
       "        vertical-align: top;\n",
       "    }\n",
       "\n",
       "    .dataframe thead th {\n",
       "        text-align: right;\n",
       "    }\n",
       "</style>\n",
       "<table border=\"1\" class=\"dataframe\">\n",
       "  <thead>\n",
       "    <tr style=\"text-align: right;\">\n",
       "      <th></th>\n",
       "      <th>Member</th>\n",
       "      <th>Created_On</th>\n",
       "      <th>Date</th>\n",
       "      <th>Days_Between_Orders</th>\n",
       "    </tr>\n",
       "  </thead>\n",
       "  <tbody>\n",
       "    <tr>\n",
       "      <th>2</th>\n",
       "      <td>4158</td>\n",
       "      <td>2012-12-16 18:54:00</td>\n",
       "      <td>2012-12-16</td>\n",
       "      <td>65 days, 0:00:00</td>\n",
       "    </tr>\n",
       "    <tr>\n",
       "      <th>3</th>\n",
       "      <td>4158</td>\n",
       "      <td>2012-12-26 15:22:00</td>\n",
       "      <td>2012-12-26</td>\n",
       "      <td>10 days, 0:00:00</td>\n",
       "    </tr>\n",
       "    <tr>\n",
       "      <th>4</th>\n",
       "      <td>4158</td>\n",
       "      <td>2013-01-04 17:40:00</td>\n",
       "      <td>2013-01-04</td>\n",
       "      <td>9 days, 0:00:00</td>\n",
       "    </tr>\n",
       "    <tr>\n",
       "      <th>5</th>\n",
       "      <td>4158</td>\n",
       "      <td>2013-01-07 14:00:00</td>\n",
       "      <td>2013-01-07</td>\n",
       "      <td>3 days, 0:00:00</td>\n",
       "    </tr>\n",
       "    <tr>\n",
       "      <th>6</th>\n",
       "      <td>4158</td>\n",
       "      <td>2013-01-08 15:20:00</td>\n",
       "      <td>2013-01-08</td>\n",
       "      <td>1 day, 0:00:00</td>\n",
       "    </tr>\n",
       "    <tr>\n",
       "      <th>...</th>\n",
       "      <td>...</td>\n",
       "      <td>...</td>\n",
       "      <td>...</td>\n",
       "      <td>...</td>\n",
       "    </tr>\n",
       "    <tr>\n",
       "      <th>1025</th>\n",
       "      <td>31101</td>\n",
       "      <td>2013-05-31 15:30:00</td>\n",
       "      <td>2013-05-31</td>\n",
       "      <td>2 days, 0:00:00</td>\n",
       "    </tr>\n",
       "    <tr>\n",
       "      <th>1026</th>\n",
       "      <td>31101</td>\n",
       "      <td>2013-06-05 11:53:00</td>\n",
       "      <td>2013-06-05</td>\n",
       "      <td>5 days, 0:00:00</td>\n",
       "    </tr>\n",
       "    <tr>\n",
       "      <th>1027</th>\n",
       "      <td>31101</td>\n",
       "      <td>2013-06-06 13:59:00</td>\n",
       "      <td>2013-06-06</td>\n",
       "      <td>1 day, 0:00:00</td>\n",
       "    </tr>\n",
       "    <tr>\n",
       "      <th>1028</th>\n",
       "      <td>31101</td>\n",
       "      <td>2013-06-08 10:05:00</td>\n",
       "      <td>2013-06-08</td>\n",
       "      <td>2 days, 0:00:00</td>\n",
       "    </tr>\n",
       "    <tr>\n",
       "      <th>1029</th>\n",
       "      <td>31101</td>\n",
       "      <td>2013-06-11 19:22:00</td>\n",
       "      <td>2013-06-11</td>\n",
       "      <td>3 days, 0:00:00</td>\n",
       "    </tr>\n",
       "  </tbody>\n",
       "</table>\n",
       "<p>1000 rows × 4 columns</p>\n",
       "</div>"
      ],
      "text/plain": [
       "      Member          Created_On        Date Days_Between_Orders\n",
       "2       4158 2012-12-16 18:54:00  2012-12-16    65 days, 0:00:00\n",
       "3       4158 2012-12-26 15:22:00  2012-12-26    10 days, 0:00:00\n",
       "4       4158 2013-01-04 17:40:00  2013-01-04     9 days, 0:00:00\n",
       "5       4158 2013-01-07 14:00:00  2013-01-07     3 days, 0:00:00\n",
       "6       4158 2013-01-08 15:20:00  2013-01-08      1 day, 0:00:00\n",
       "...      ...                 ...         ...                 ...\n",
       "1025   31101 2013-05-31 15:30:00  2013-05-31     2 days, 0:00:00\n",
       "1026   31101 2013-06-05 11:53:00  2013-06-05     5 days, 0:00:00\n",
       "1027   31101 2013-06-06 13:59:00  2013-06-06      1 day, 0:00:00\n",
       "1028   31101 2013-06-08 10:05:00  2013-06-08     2 days, 0:00:00\n",
       "1029   31101 2013-06-11 19:22:00  2013-06-11     3 days, 0:00:00\n",
       "\n",
       "[1000 rows x 4 columns]"
      ]
     },
     "execution_count": 27,
     "metadata": {},
     "output_type": "execute_result"
    }
   ],
   "source": [
    "# Calculating the days difference between orders placed by same customer - results in timedelta object\n",
    "df_pos_ordered['Days_Between_Orders'] = np.nan\n",
    "\n",
    "for i in range(0,len(df_pos_ordered)):\n",
    "    if df_pos_ordered['Member'].iloc[i] == df_pos_ordered['Member'].iloc[i-1]:\n",
    "            if df_pos_ordered['Created_On'].iloc[i] != df_pos_ordered['Created_On'].iloc[i-1]:\n",
    "                df_pos_ordered['Days_Between_Orders'].iloc[i] = df_pos_ordered['Date'].iloc[i] - df_pos_ordered['Date'].iloc[i-1]\n",
    "            else:\n",
    "                df_pos_ordered['Days_Between_Orders'].iloc[i] = np.nan  \n",
    "    else:\n",
    "        df_pos_ordered['Days_Between_Orders'].iloc[i] = np.nan\n",
    "\n",
    "df_pos_ordered = df_pos_ordered.dropna()\n",
    "        \n",
    "df_pos_ordered.head(1000)"
   ]
  },
  {
   "cell_type": "code",
   "execution_count": 28,
   "metadata": {},
   "outputs": [
    {
     "data": {
      "text/html": [
       "<div>\n",
       "<style scoped>\n",
       "    .dataframe tbody tr th:only-of-type {\n",
       "        vertical-align: middle;\n",
       "    }\n",
       "\n",
       "    .dataframe tbody tr th {\n",
       "        vertical-align: top;\n",
       "    }\n",
       "\n",
       "    .dataframe thead th {\n",
       "        text-align: right;\n",
       "    }\n",
       "</style>\n",
       "<table border=\"1\" class=\"dataframe\">\n",
       "  <thead>\n",
       "    <tr style=\"text-align: right;\">\n",
       "      <th></th>\n",
       "      <th>Member</th>\n",
       "      <th>Created_On</th>\n",
       "      <th>Date</th>\n",
       "      <th>Days_Between_Orders</th>\n",
       "    </tr>\n",
       "  </thead>\n",
       "  <tbody>\n",
       "    <tr>\n",
       "      <th>2</th>\n",
       "      <td>4158</td>\n",
       "      <td>2012-12-16 18:54:00</td>\n",
       "      <td>2012-12-16</td>\n",
       "      <td>65</td>\n",
       "    </tr>\n",
       "    <tr>\n",
       "      <th>3</th>\n",
       "      <td>4158</td>\n",
       "      <td>2012-12-26 15:22:00</td>\n",
       "      <td>2012-12-26</td>\n",
       "      <td>10</td>\n",
       "    </tr>\n",
       "    <tr>\n",
       "      <th>4</th>\n",
       "      <td>4158</td>\n",
       "      <td>2013-01-04 17:40:00</td>\n",
       "      <td>2013-01-04</td>\n",
       "      <td>9</td>\n",
       "    </tr>\n",
       "    <tr>\n",
       "      <th>5</th>\n",
       "      <td>4158</td>\n",
       "      <td>2013-01-07 14:00:00</td>\n",
       "      <td>2013-01-07</td>\n",
       "      <td>3</td>\n",
       "    </tr>\n",
       "    <tr>\n",
       "      <th>6</th>\n",
       "      <td>4158</td>\n",
       "      <td>2013-01-08 15:20:00</td>\n",
       "      <td>2013-01-08</td>\n",
       "      <td>1</td>\n",
       "    </tr>\n",
       "    <tr>\n",
       "      <th>...</th>\n",
       "      <td>...</td>\n",
       "      <td>...</td>\n",
       "      <td>...</td>\n",
       "      <td>...</td>\n",
       "    </tr>\n",
       "    <tr>\n",
       "      <th>1025</th>\n",
       "      <td>31101</td>\n",
       "      <td>2013-05-31 15:30:00</td>\n",
       "      <td>2013-05-31</td>\n",
       "      <td>2</td>\n",
       "    </tr>\n",
       "    <tr>\n",
       "      <th>1026</th>\n",
       "      <td>31101</td>\n",
       "      <td>2013-06-05 11:53:00</td>\n",
       "      <td>2013-06-05</td>\n",
       "      <td>5</td>\n",
       "    </tr>\n",
       "    <tr>\n",
       "      <th>1027</th>\n",
       "      <td>31101</td>\n",
       "      <td>2013-06-06 13:59:00</td>\n",
       "      <td>2013-06-06</td>\n",
       "      <td>1</td>\n",
       "    </tr>\n",
       "    <tr>\n",
       "      <th>1028</th>\n",
       "      <td>31101</td>\n",
       "      <td>2013-06-08 10:05:00</td>\n",
       "      <td>2013-06-08</td>\n",
       "      <td>2</td>\n",
       "    </tr>\n",
       "    <tr>\n",
       "      <th>1029</th>\n",
       "      <td>31101</td>\n",
       "      <td>2013-06-11 19:22:00</td>\n",
       "      <td>2013-06-11</td>\n",
       "      <td>3</td>\n",
       "    </tr>\n",
       "  </tbody>\n",
       "</table>\n",
       "<p>1000 rows × 4 columns</p>\n",
       "</div>"
      ],
      "text/plain": [
       "      Member          Created_On        Date  Days_Between_Orders\n",
       "2       4158 2012-12-16 18:54:00  2012-12-16                   65\n",
       "3       4158 2012-12-26 15:22:00  2012-12-26                   10\n",
       "4       4158 2013-01-04 17:40:00  2013-01-04                    9\n",
       "5       4158 2013-01-07 14:00:00  2013-01-07                    3\n",
       "6       4158 2013-01-08 15:20:00  2013-01-08                    1\n",
       "...      ...                 ...         ...                  ...\n",
       "1025   31101 2013-05-31 15:30:00  2013-05-31                    2\n",
       "1026   31101 2013-06-05 11:53:00  2013-06-05                    5\n",
       "1027   31101 2013-06-06 13:59:00  2013-06-06                    1\n",
       "1028   31101 2013-06-08 10:05:00  2013-06-08                    2\n",
       "1029   31101 2013-06-11 19:22:00  2013-06-11                    3\n",
       "\n",
       "[1000 rows x 4 columns]"
      ]
     },
     "execution_count": 28,
     "metadata": {},
     "output_type": "execute_result"
    }
   ],
   "source": [
    "# Converting timedelta object to float\n",
    "def convert_dt(x):\n",
    "    x = pd.to_numeric(x.days, downcast='float')\n",
    "    return x\n",
    "\n",
    "df_pos_ordered['Days_Between_Orders'] = df_pos_ordered['Days_Between_Orders'].apply(lambda x: convert_dt(x))\n",
    "\n",
    "df_pos_ordered.head(1000)"
   ]
  },
  {
   "cell_type": "markdown",
   "metadata": {},
   "source": [
    "#### Visualizing Time Between Orders"
   ]
  },
  {
   "cell_type": "code",
   "execution_count": 29,
   "metadata": {},
   "outputs": [
    {
     "data": {
      "text/plain": [
       "10.994373088685016"
      ]
     },
     "execution_count": 29,
     "metadata": {},
     "output_type": "execute_result"
    }
   ],
   "source": [
    "df_pos_ordered['Days_Between_Orders'].mean()"
   ]
  },
  {
   "cell_type": "code",
   "execution_count": 30,
   "metadata": {},
   "outputs": [
    {
     "data": {
      "text/plain": [
       "303"
      ]
     },
     "execution_count": 30,
     "metadata": {},
     "output_type": "execute_result"
    }
   ],
   "source": [
    "df_pos_ordered['Days_Between_Orders'].max()"
   ]
  },
  {
   "cell_type": "code",
   "execution_count": 31,
   "metadata": {},
   "outputs": [
    {
     "data": {
      "text/plain": [
       "<Figure size 1080x360 with 0 Axes>"
      ]
     },
     "execution_count": 31,
     "metadata": {},
     "output_type": "execute_result"
    },
    {
     "name": "stderr",
     "output_type": "stream",
     "text": [
      "c:\\users\\scarl\\appdata\\local\\programs\\python\\python38-32\\lib\\site-packages\\seaborn\\distributions.py:2619: FutureWarning: `distplot` is a deprecated function and will be removed in a future version. Please adapt your code to use either `displot` (a figure-level function with similar flexibility) or `histplot` (an axes-level function for histograms).\n",
      "  warnings.warn(msg, FutureWarning)\n"
     ]
    },
    {
     "data": {
      "text/plain": [
       "<AxesSubplot:xlabel='Days_Between_Orders'>"
      ]
     },
     "execution_count": 31,
     "metadata": {},
     "output_type": "execute_result"
    },
    {
     "data": {
      "text/plain": [
       "(0.0, 42.0)"
      ]
     },
     "execution_count": 31,
     "metadata": {},
     "output_type": "execute_result"
    },
    {
     "data": {
      "text/plain": [
       "([<matplotlib.axis.XTick at 0x1df88700>,\n",
       "  <matplotlib.axis.XTick at 0x1df886e8>,\n",
       "  <matplotlib.axis.XTick at 0x1df62ca0>,\n",
       "  <matplotlib.axis.XTick at 0x174fe68>,\n",
       "  <matplotlib.axis.XTick at 0x17641c0>,\n",
       "  <matplotlib.axis.XTick at 0x1764448>,\n",
       "  <matplotlib.axis.XTick at 0x1df9c058>,\n",
       "  <matplotlib.axis.XTick at 0x17646d0>,\n",
       "  <matplotlib.axis.XTick at 0x1764958>,\n",
       "  <matplotlib.axis.XTick at 0x1764be0>,\n",
       "  <matplotlib.axis.XTick at 0x1764e68>,\n",
       "  <matplotlib.axis.XTick at 0x176c118>,\n",
       "  <matplotlib.axis.XTick at 0x176c3a0>,\n",
       "  <matplotlib.axis.XTick at 0x176c628>,\n",
       "  <matplotlib.axis.XTick at 0x176c8b0>,\n",
       "  <matplotlib.axis.XTick at 0x1764c88>,\n",
       "  <matplotlib.axis.XTick at 0x17645b0>,\n",
       "  <matplotlib.axis.XTick at 0x176c3e8>,\n",
       "  <matplotlib.axis.XTick at 0x176cc10>,\n",
       "  <matplotlib.axis.XTick at 0x176ce98>,\n",
       "  <matplotlib.axis.XTick at 0x1776148>,\n",
       "  <matplotlib.axis.XTick at 0x17763d0>,\n",
       "  <matplotlib.axis.XTick at 0x1776658>,\n",
       "  <matplotlib.axis.XTick at 0x17768e0>,\n",
       "  <matplotlib.axis.XTick at 0x1776b68>,\n",
       "  <matplotlib.axis.XTick at 0x176c208>,\n",
       "  <matplotlib.axis.XTick at 0x1776970>,\n",
       "  <matplotlib.axis.XTick at 0x17761d8>,\n",
       "  <matplotlib.axis.XTick at 0x1776df0>,\n",
       "  <matplotlib.axis.XTick at 0x17800a0>,\n",
       "  <matplotlib.axis.XTick at 0x1780328>,\n",
       "  <matplotlib.axis.XTick at 0x17805b0>,\n",
       "  <matplotlib.axis.XTick at 0x1780838>,\n",
       "  <matplotlib.axis.XTick at 0x1780ac0>,\n",
       "  <matplotlib.axis.XTick at 0x1776190>,\n",
       "  <matplotlib.axis.XTick at 0x1780c58>,\n",
       "  <matplotlib.axis.XTick at 0x1780430>,\n",
       "  <matplotlib.axis.XTick at 0x1780d90>,\n",
       "  <matplotlib.axis.XTick at 0x1789040>,\n",
       "  <matplotlib.axis.XTick at 0x17892c8>,\n",
       "  <matplotlib.axis.XTick at 0x1789550>,\n",
       "  <matplotlib.axis.XTick at 0x17897d8>],\n",
       " [Text(0, 0, ''),\n",
       "  Text(0, 0, ''),\n",
       "  Text(0, 0, ''),\n",
       "  Text(0, 0, ''),\n",
       "  Text(0, 0, ''),\n",
       "  Text(0, 0, ''),\n",
       "  Text(0, 0, ''),\n",
       "  Text(0, 0, ''),\n",
       "  Text(0, 0, ''),\n",
       "  Text(0, 0, ''),\n",
       "  Text(0, 0, ''),\n",
       "  Text(0, 0, ''),\n",
       "  Text(0, 0, ''),\n",
       "  Text(0, 0, ''),\n",
       "  Text(0, 0, ''),\n",
       "  Text(0, 0, ''),\n",
       "  Text(0, 0, ''),\n",
       "  Text(0, 0, ''),\n",
       "  Text(0, 0, ''),\n",
       "  Text(0, 0, ''),\n",
       "  Text(0, 0, ''),\n",
       "  Text(0, 0, ''),\n",
       "  Text(0, 0, ''),\n",
       "  Text(0, 0, ''),\n",
       "  Text(0, 0, ''),\n",
       "  Text(0, 0, ''),\n",
       "  Text(0, 0, ''),\n",
       "  Text(0, 0, ''),\n",
       "  Text(0, 0, ''),\n",
       "  Text(0, 0, ''),\n",
       "  Text(0, 0, ''),\n",
       "  Text(0, 0, ''),\n",
       "  Text(0, 0, ''),\n",
       "  Text(0, 0, ''),\n",
       "  Text(0, 0, ''),\n",
       "  Text(0, 0, ''),\n",
       "  Text(0, 0, ''),\n",
       "  Text(0, 0, ''),\n",
       "  Text(0, 0, ''),\n",
       "  Text(0, 0, ''),\n",
       "  Text(0, 0, ''),\n",
       "  Text(0, 0, '')])"
      ]
     },
     "execution_count": 31,
     "metadata": {},
     "output_type": "execute_result"
    },
    {
     "data": {
      "text/plain": [
       "Text(0.5, 1.0, 'Time Between Orders')"
      ]
     },
     "execution_count": 31,
     "metadata": {},
     "output_type": "execute_result"
    },
    {
     "data": {
      "image/png": "[encoded data removed]",
      "text/plain": [
       "<Figure size 1080x360 with 1 Axes>"
      ]
     },
     "metadata": {},
     "output_type": "display_data"
    }
   ],
   "source": [
    "sns.set_style(\"dark\")\n",
    "plt.figure(figsize = (15,5))\n",
    "sns.distplot(df_pos_ordered['Days_Between_Orders'], kde=False, bins=302, color='#0AFEB2')\n",
    "plt.xlim(left = 0, right=42)\n",
    "plt.xticks(np.arange(0, 42, step=1))\n",
    "plt.title('Time Between Orders')"
   ]
  },
  {
   "cell_type": "markdown",
   "metadata": {},
   "source": [
    "#### How many orders are placed within 24 hours of the previous one?"
   ]
  },
  {
   "cell_type": "code",
   "execution_count": 32,
   "metadata": {},
   "outputs": [
    {
     "data": {
      "text/plain": [
       "Member                 213\n",
       "Created_On             213\n",
       "Date                   213\n",
       "Days_Between_Orders    213\n",
       "dtype: int64"
      ]
     },
     "execution_count": 32,
     "metadata": {},
     "output_type": "execute_result"
    }
   ],
   "source": [
    "df_pos_ordered[df_pos_ordered.Days_Between_Orders < 1].count()"
   ]
  },
  {
   "cell_type": "code",
   "execution_count": 33,
   "metadata": {},
   "outputs": [
    {
     "name": "stdout",
     "output_type": "stream",
     "text": [
      "Percentage of orders placed within 24 hours of the previous one: 6.05%\n"
     ]
    }
   ],
   "source": [
    "# Of 8,387 total orders, 8,281 are non-first-time orders\n",
    "# Therefore, what percentage of orders are placed within 24 hours of the previous one?\n",
    "\n",
    "h24 = 501/8281*100\n",
    "\n",
    "print('Percentage of orders placed within 24 hours of the previous one: {:.2f}%'.format(h24))"
   ]
  },
  {
   "cell_type": "markdown",
   "metadata": {},
   "source": [
    "#### How many orders are placed within 48 hours of the previous one?"
   ]
  },
  {
   "cell_type": "code",
   "execution_count": 34,
   "metadata": {},
   "outputs": [
    {
     "data": {
      "text/plain": [
       "Member                 737\n",
       "Created_On             737\n",
       "Date                   737\n",
       "Days_Between_Orders    737\n",
       "dtype: int64"
      ]
     },
     "execution_count": 34,
     "metadata": {},
     "output_type": "execute_result"
    }
   ],
   "source": [
    "df_pos_ordered[df_pos_ordered.Days_Between_Orders < 2].count()"
   ]
  },
  {
   "cell_type": "code",
   "execution_count": 35,
   "metadata": {},
   "outputs": [
    {
     "name": "stdout",
     "output_type": "stream",
     "text": [
      "Percentage of orders placed within 48 hours of the previous one: 12.17%\n"
     ]
    }
   ],
   "source": [
    "# What percentage of orders are placed within 48 hours of the previous one?\n",
    "\n",
    "h48 = 1008/8281*100\n",
    "\n",
    "print('Percentage of orders placed within 48 hours of the previous one: {:.2f}%'.format(h48))"
   ]
  },
  {
   "cell_type": "markdown",
   "metadata": {},
   "source": [
    "#### How many orders are placed within 72 hours of the previous one?"
   ]
  },
  {
   "cell_type": "code",
   "execution_count": 36,
   "metadata": {},
   "outputs": [
    {
     "data": {
      "text/plain": [
       "Member                 1272\n",
       "Created_On             1272\n",
       "Date                   1272\n",
       "Days_Between_Orders    1272\n",
       "dtype: int64"
      ]
     },
     "execution_count": 36,
     "metadata": {},
     "output_type": "execute_result"
    }
   ],
   "source": [
    "df_pos_ordered[df_pos_ordered.Days_Between_Orders < 3].count()"
   ]
  },
  {
   "cell_type": "code",
   "execution_count": 37,
   "metadata": {},
   "outputs": [
    {
     "name": "stdout",
     "output_type": "stream",
     "text": [
      "Percentage of orders placed within 72 hours of the previous one: 19.15%\n"
     ]
    }
   ],
   "source": [
    "# What percentage of orders are placed within 72 hours of the previous one?\n",
    "\n",
    "h72 = 1586/8281*100\n",
    "\n",
    "print('Percentage of orders placed within 72 hours of the previous one: {:.2f}%'.format(h72))"
   ]
  },
  {
   "cell_type": "markdown",
   "metadata": {},
   "source": [
    "#### How many orders are placed within 1 week or less of the previous one?"
   ]
  },
  {
   "cell_type": "code",
   "execution_count": 38,
   "metadata": {},
   "outputs": [
    {
     "data": {
      "text/plain": [
       "Member                 4357\n",
       "Created_On             4357\n",
       "Date                   4357\n",
       "Days_Between_Orders    4357\n",
       "dtype: int64"
      ]
     },
     "execution_count": 38,
     "metadata": {},
     "output_type": "execute_result"
    }
   ],
   "source": [
    "df_pos_ordered[df_pos_ordered.Days_Between_Orders <= 7].count()"
   ]
  },
  {
   "cell_type": "code",
   "execution_count": 39,
   "metadata": {},
   "outputs": [
    {
     "name": "stdout",
     "output_type": "stream",
     "text": [
      "Percentage of orders placed within 1 week or less of the previous one: 56.43%\n"
     ]
    }
   ],
   "source": [
    "# What percentage of orders are placed within 1 week or less of the previous one?\n",
    "\n",
    "h_1wk = 4673/8281*100\n",
    "\n",
    "print('Percentage of orders placed within 1 week or less of the previous one: {:.2f}%'.format(h_1wk))"
   ]
  },
  {
   "cell_type": "markdown",
   "metadata": {},
   "source": [
    "#### Customer Segment Analysis"
   ]
  },
  {
   "cell_type": "code",
   "execution_count": 40,
   "metadata": {},
   "outputs": [
    {
     "data": {
      "image/png": "[encoded data removed]",
      "text/plain": [
       "<Figure size 864x360 with 1 Axes>"
      ]
     },
     "metadata": {},
     "output_type": "display_data"
    }
   ],
   "source": [
    "Customer_df = pd.DataFrame(df4.groupby(['Member']).sum()['Sales'])\n",
    "Customer_df['Customer Decile'] = pd.qcut(Customer_df['Sales'], 10, labels=np.arange(10, 0, -1))\n",
    "\n",
    "fig, ax = plt.subplots(1,1,figsize=(12,5))\n",
    "ax.xaxis.set_major_locator(MaxNLocator(integer=True))\n",
    "ax = plt.bar(Customer_df['Customer Decile'],Customer_df['Sales'], color='#0AFEB2')\n",
    "ax = plt.xlabel('Customer Decile', fontsize=18)\n",
    "ax = plt.ylabel('Total Sales', fontsize=18)\n",
    "ax = plt.title('Customer Deciles')"
   ]
  },
  {
   "cell_type": "markdown",
   "metadata": {},
   "source": [
    "#### Order Size Segmentation"
   ]
  },
  {
   "cell_type": "code",
   "execution_count": 41,
   "metadata": {},
   "outputs": [
    {
     "data": {
      "image/png": "[encoded data removed]",
      "text/plain": [
       "<Figure size 864x360 with 1 Axes>"
      ]
     },
     "metadata": {},
     "output_type": "display_data"
    }
   ],
   "source": [
    "Order_df = pd.DataFrame(df4.groupby(['Order']).sum()['Sales'])\n",
    "Order_df['Order Decile'] = pd.qcut(Order_df['Sales'], 10, labels=np.arange(10, 0, -1))\n",
    "\n",
    "fig, ax = plt.subplots(1,1,figsize=(12,5))\n",
    "ax.xaxis.set_major_locator(MaxNLocator(integer=True))\n",
    "ax = plt.bar(Order_df['Order Decile'],Order_df['Sales'], color='#0AFEB2')\n",
    "ax = plt.xlabel('Order Decile', fontsize=18)\n",
    "ax = plt.ylabel('Total Sales', fontsize=18)\n",
    "ax = plt.title('Order Deciles')"
   ]
  },
  {
   "cell_type": "code",
   "execution_count": null,
   "metadata": {},
   "outputs": [],
   "source": []
  }
 ],
 "metadata": {
  "kernelspec": {
   "display_name": "Python 3",
   "language": "python",
   "name": "python3"
  },
  "language_info": {
   "codemirror_mode": {
    "name": "ipython",
    "version": 3
   },
   "file_extension": ".py",
   "mimetype": "text/x-python",
   "name": "python",
   "nbconvert_exporter": "python",
   "pygments_lexer": "ipython3",
   "version": "3.8.5"
  }
 },
 "nbformat": 4,
 "nbformat_minor": 2
}
