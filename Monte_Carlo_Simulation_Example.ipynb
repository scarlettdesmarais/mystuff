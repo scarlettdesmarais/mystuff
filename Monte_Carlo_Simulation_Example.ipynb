{
 "cells": [
  {
   "cell_type": "markdown",
   "metadata": {},
   "source": [
    "Let's try to predict how much money we should budget for sales commissions for the next year."
   ]
  },
  {
   "cell_type": "code",
   "execution_count": 1,
   "metadata": {},
   "outputs": [],
   "source": [
    "import pandas as pd\n",
    "import numpy as np\n",
    "import seaborn as sns\n",
    "\n",
    "sns.set_style('whitegrid')"
   ]
  },
  {
   "cell_type": "markdown",
   "metadata": {},
   "source": [
    "Assumptions:\n",
    "- historical percent to target performance is centered around a mean of 100%\n",
    "- std dev 10%\n",
    "- 500 sales reps\n",
    "- 1000 simulations"
   ]
  },
  {
   "cell_type": "code",
   "execution_count": 2,
   "metadata": {},
   "outputs": [],
   "source": [
    "avg = 1\n",
    "std_dev = .1\n",
    "num_reps = 500\n",
    "num_simulations = 1000"
   ]
  },
  {
   "cell_type": "code",
   "execution_count": 3,
   "metadata": {},
   "outputs": [
    {
     "name": "stdout",
     "output_type": "stream",
     "text": [
      "[1.04 1.11 0.86 0.98 0.89 0.85 1.03 0.82 0.81 1.03]\n"
     ]
    }
   ],
   "source": [
    "pct_to_target = np.random.normal(avg, std_dev, num_reps).round(2)\n",
    "print(pct_to_target[0:10])"
   ]
  },
  {
   "cell_type": "code",
   "execution_count": 4,
   "metadata": {},
   "outputs": [],
   "source": [
    "sales_target_values = [75_000, 100_000, 200_000, 300_000, 400_000, 500_000]\n",
    "sales_target_prob = [.3, .3, .2, .1, .05, .05]\n",
    "sales_target = np.random.choice(sales_target_values, num_reps, p=sales_target_prob)"
   ]
  },
  {
   "cell_type": "code",
   "execution_count": 5,
   "metadata": {},
   "outputs": [
    {
     "data": {
      "text/html": [
       "<div>\n",
       "<style scoped>\n",
       "    .dataframe tbody tr th:only-of-type {\n",
       "        vertical-align: middle;\n",
       "    }\n",
       "\n",
       "    .dataframe tbody tr th {\n",
       "        vertical-align: top;\n",
       "    }\n",
       "\n",
       "    .dataframe thead th {\n",
       "        text-align: right;\n",
       "    }\n",
       "</style>\n",
       "<table border=\"1\" class=\"dataframe\">\n",
       "  <thead>\n",
       "    <tr style=\"text-align: right;\">\n",
       "      <th></th>\n",
       "      <th>Pct_To_Target</th>\n",
       "      <th>Sales_Target</th>\n",
       "      <th>Sales</th>\n",
       "    </tr>\n",
       "  </thead>\n",
       "  <tbody>\n",
       "    <tr>\n",
       "      <th>0</th>\n",
       "      <td>1.04</td>\n",
       "      <td>75000</td>\n",
       "      <td>78000.0</td>\n",
       "    </tr>\n",
       "    <tr>\n",
       "      <th>1</th>\n",
       "      <td>1.11</td>\n",
       "      <td>200000</td>\n",
       "      <td>222000.0</td>\n",
       "    </tr>\n",
       "    <tr>\n",
       "      <th>2</th>\n",
       "      <td>0.86</td>\n",
       "      <td>75000</td>\n",
       "      <td>64500.0</td>\n",
       "    </tr>\n",
       "    <tr>\n",
       "      <th>3</th>\n",
       "      <td>0.98</td>\n",
       "      <td>75000</td>\n",
       "      <td>73500.0</td>\n",
       "    </tr>\n",
       "    <tr>\n",
       "      <th>4</th>\n",
       "      <td>0.89</td>\n",
       "      <td>200000</td>\n",
       "      <td>178000.0</td>\n",
       "    </tr>\n",
       "  </tbody>\n",
       "</table>\n",
       "</div>"
      ],
      "text/plain": [
       "   Pct_To_Target  Sales_Target     Sales\n",
       "0           1.04         75000   78000.0\n",
       "1           1.11        200000  222000.0\n",
       "2           0.86         75000   64500.0\n",
       "3           0.98         75000   73500.0\n",
       "4           0.89        200000  178000.0"
      ]
     },
     "execution_count": 5,
     "metadata": {},
     "output_type": "execute_result"
    }
   ],
   "source": [
    "df = pd.DataFrame(index=range(num_reps), data={'Pct_To_Target': pct_to_target,\n",
    "                                               'Sales_Target': sales_target})\n",
    "\n",
    "df['Sales'] = df['Pct_To_Target'] * df['Sales_Target']\n",
    "df.head()"
   ]
  },
  {
   "cell_type": "code",
   "execution_count": 6,
   "metadata": {},
   "outputs": [],
   "source": [
    "# Mapping Pct_To_Target to commission rate\n",
    "def calc_commission_rate(x):\n",
    "    \"\"\" Return the commission rate based on the table:\n",
    "    0-90% = 2%\n",
    "    91-99% = 3%\n",
    "    >= 100 = 4%\n",
    "    \"\"\"\n",
    "    if x <= .90:\n",
    "        return .02\n",
    "    if x <= .99:\n",
    "        return .03\n",
    "    else:\n",
    "        return .04"
   ]
  },
  {
   "cell_type": "code",
   "execution_count": 7,
   "metadata": {},
   "outputs": [
    {
     "data": {
      "text/html": [
       "<div>\n",
       "<style scoped>\n",
       "    .dataframe tbody tr th:only-of-type {\n",
       "        vertical-align: middle;\n",
       "    }\n",
       "\n",
       "    .dataframe tbody tr th {\n",
       "        vertical-align: top;\n",
       "    }\n",
       "\n",
       "    .dataframe thead th {\n",
       "        text-align: right;\n",
       "    }\n",
       "</style>\n",
       "<table border=\"1\" class=\"dataframe\">\n",
       "  <thead>\n",
       "    <tr style=\"text-align: right;\">\n",
       "      <th></th>\n",
       "      <th>Pct_To_Target</th>\n",
       "      <th>Sales_Target</th>\n",
       "      <th>Sales</th>\n",
       "      <th>Commission_Rate</th>\n",
       "      <th>Commission_Amount</th>\n",
       "    </tr>\n",
       "  </thead>\n",
       "  <tbody>\n",
       "    <tr>\n",
       "      <th>0</th>\n",
       "      <td>1.04</td>\n",
       "      <td>75000</td>\n",
       "      <td>78000.0</td>\n",
       "      <td>0.04</td>\n",
       "      <td>3120.0</td>\n",
       "    </tr>\n",
       "    <tr>\n",
       "      <th>1</th>\n",
       "      <td>1.11</td>\n",
       "      <td>200000</td>\n",
       "      <td>222000.0</td>\n",
       "      <td>0.04</td>\n",
       "      <td>8880.0</td>\n",
       "    </tr>\n",
       "    <tr>\n",
       "      <th>2</th>\n",
       "      <td>0.86</td>\n",
       "      <td>75000</td>\n",
       "      <td>64500.0</td>\n",
       "      <td>0.02</td>\n",
       "      <td>1290.0</td>\n",
       "    </tr>\n",
       "    <tr>\n",
       "      <th>3</th>\n",
       "      <td>0.98</td>\n",
       "      <td>75000</td>\n",
       "      <td>73500.0</td>\n",
       "      <td>0.03</td>\n",
       "      <td>2205.0</td>\n",
       "    </tr>\n",
       "    <tr>\n",
       "      <th>4</th>\n",
       "      <td>0.89</td>\n",
       "      <td>200000</td>\n",
       "      <td>178000.0</td>\n",
       "      <td>0.02</td>\n",
       "      <td>3560.0</td>\n",
       "    </tr>\n",
       "  </tbody>\n",
       "</table>\n",
       "</div>"
      ],
      "text/plain": [
       "   Pct_To_Target  Sales_Target     Sales  Commission_Rate  Commission_Amount\n",
       "0           1.04         75000   78000.0             0.04             3120.0\n",
       "1           1.11        200000  222000.0             0.04             8880.0\n",
       "2           0.86         75000   64500.0             0.02             1290.0\n",
       "3           0.98         75000   73500.0             0.03             2205.0\n",
       "4           0.89        200000  178000.0             0.02             3560.0"
      ]
     },
     "execution_count": 7,
     "metadata": {},
     "output_type": "execute_result"
    }
   ],
   "source": [
    "df['Commission_Rate'] = df['Pct_To_Target'].apply(calc_commission_rate)\n",
    "df['Commission_Amount'] = df['Commission_Rate'] * df['Sales']\n",
    "df.head()"
   ]
  },
  {
   "cell_type": "code",
   "execution_count": 8,
   "metadata": {},
   "outputs": [],
   "source": [
    "# Running simulation\n",
    "\n",
    "# Define a list to keep all the results from each simulation that we want to analyze\n",
    "all_stats = []\n",
    "\n",
    "# Loop through many simulations\n",
    "for i in range(num_simulations):\n",
    "\n",
    "    # Choose random inputs for the sales targets and percent to target\n",
    "    sales_target = np.random.choice(sales_target_values, num_reps, p=sales_target_prob)\n",
    "    pct_to_target = np.random.normal(avg, std_dev, num_reps).round(2)\n",
    "\n",
    "    # Build the dataframe based on the inputs and number of reps\n",
    "    df = pd.DataFrame(index=range(num_reps), data={'Pct_To_Target': pct_to_target,\n",
    "                                                   'Sales_Target': sales_target})\n",
    "\n",
    "    # Back into the sales number using the percent to target rate\n",
    "    df['Sales'] = df['Pct_To_Target'] * df['Sales_Target']\n",
    "\n",
    "    # Determine the commissions rate and calculate it\n",
    "    df['Commission_Rate'] = df['Pct_To_Target'].apply(calc_commission_rate)\n",
    "    df['Commission_Amount'] = df['Commission_Rate'] * df['Sales']\n",
    "\n",
    "    # We want to track sales,commission amounts and sales targets over all the simulations\n",
    "    all_stats.append([df['Sales'].sum().round(0),\n",
    "                      df['Commission_Amount'].sum().round(0),\n",
    "                      df['Sales_Target'].sum().round(0)])"
   ]
  },
  {
   "cell_type": "code",
   "execution_count": 9,
   "metadata": {},
   "outputs": [],
   "source": [
    "results_df = pd.DataFrame.from_records(all_stats, columns=['Sales',\n",
    "                                                           'Commission_Amount',\n",
    "                                                           'Sales_Target'])"
   ]
  },
  {
   "cell_type": "code",
   "execution_count": 10,
   "metadata": {},
   "outputs": [
    {
     "data": {
      "text/html": [
       "<style  type=\"text/css\" >\n",
       "</style><table id=\"T_1cf8b8ab_bb68_11ec_96d2_ce386ba8abde\" ><thead>    <tr>        <th class=\"blank level0\" ></th>        <th class=\"col_heading level0 col0\" >Sales</th>        <th class=\"col_heading level0 col1\" >Commission_Amount</th>        <th class=\"col_heading level0 col2\" >Sales_Target</th>    </tr></thead><tbody>\n",
       "                <tr>\n",
       "                        <th id=\"T_1cf8b8ab_bb68_11ec_96d2_ce386ba8abdelevel0_row0\" class=\"row_heading level0 row0\" >count</th>\n",
       "                        <td id=\"T_1cf8b8ab_bb68_11ec_96d2_ce386ba8abderow0_col0\" class=\"data row0 col0\" >1,000.0</td>\n",
       "                        <td id=\"T_1cf8b8ab_bb68_11ec_96d2_ce386ba8abderow0_col1\" class=\"data row0 col1\" >1,000.0</td>\n",
       "                        <td id=\"T_1cf8b8ab_bb68_11ec_96d2_ce386ba8abderow0_col2\" class=\"data row0 col2\" >1,000.0</td>\n",
       "            </tr>\n",
       "            <tr>\n",
       "                        <th id=\"T_1cf8b8ab_bb68_11ec_96d2_ce386ba8abdelevel0_row1\" class=\"row_heading level0 row1\" >mean</th>\n",
       "                        <td id=\"T_1cf8b8ab_bb68_11ec_96d2_ce386ba8abderow1_col0\" class=\"data row1 col0\" >83,699,782.5</td>\n",
       "                        <td id=\"T_1cf8b8ab_bb68_11ec_96d2_ce386ba8abderow1_col1\" class=\"data row1 col1\" >2,858,402.84</td>\n",
       "                        <td id=\"T_1cf8b8ab_bb68_11ec_96d2_ce386ba8abderow1_col2\" class=\"data row1 col2\" >83,678,550.0</td>\n",
       "            </tr>\n",
       "            <tr>\n",
       "                        <th id=\"T_1cf8b8ab_bb68_11ec_96d2_ce386ba8abdelevel0_row2\" class=\"row_heading level0 row2\" >std</th>\n",
       "                        <td id=\"T_1cf8b8ab_bb68_11ec_96d2_ce386ba8abderow2_col0\" class=\"data row2 col0\" >2,714,754.492979227</td>\n",
       "                        <td id=\"T_1cf8b8ab_bb68_11ec_96d2_ce386ba8abderow2_col1\" class=\"data row2 col1\" >102,316.8642696128</td>\n",
       "                        <td id=\"T_1cf8b8ab_bb68_11ec_96d2_ce386ba8abderow2_col2\" class=\"data row2 col2\" >2,684,007.972472566</td>\n",
       "            </tr>\n",
       "            <tr>\n",
       "                        <th id=\"T_1cf8b8ab_bb68_11ec_96d2_ce386ba8abdelevel0_row3\" class=\"row_heading level0 row3\" >min</th>\n",
       "                        <td id=\"T_1cf8b8ab_bb68_11ec_96d2_ce386ba8abderow3_col0\" class=\"data row3 col0\" >74,583,750.0</td>\n",
       "                        <td id=\"T_1cf8b8ab_bb68_11ec_96d2_ce386ba8abderow3_col1\" class=\"data row3 col1\" >2,561,860.0</td>\n",
       "                        <td id=\"T_1cf8b8ab_bb68_11ec_96d2_ce386ba8abderow3_col2\" class=\"data row3 col2\" >74,300,000.0</td>\n",
       "            </tr>\n",
       "            <tr>\n",
       "                        <th id=\"T_1cf8b8ab_bb68_11ec_96d2_ce386ba8abdelevel0_row4\" class=\"row_heading level0 row4\" >25%</th>\n",
       "                        <td id=\"T_1cf8b8ab_bb68_11ec_96d2_ce386ba8abderow4_col0\" class=\"data row4 col0\" >81,924,062.5</td>\n",
       "                        <td id=\"T_1cf8b8ab_bb68_11ec_96d2_ce386ba8abderow4_col1\" class=\"data row4 col1\" >2,789,415.75</td>\n",
       "                        <td id=\"T_1cf8b8ab_bb68_11ec_96d2_ce386ba8abderow4_col2\" class=\"data row4 col2\" >81,893,750.0</td>\n",
       "            </tr>\n",
       "            <tr>\n",
       "                        <th id=\"T_1cf8b8ab_bb68_11ec_96d2_ce386ba8abdelevel0_row5\" class=\"row_heading level0 row5\" >50%</th>\n",
       "                        <td id=\"T_1cf8b8ab_bb68_11ec_96d2_ce386ba8abderow5_col0\" class=\"data row5 col0\" >83,699,250.0</td>\n",
       "                        <td id=\"T_1cf8b8ab_bb68_11ec_96d2_ce386ba8abderow5_col1\" class=\"data row5 col1\" >2,857,796.0</td>\n",
       "                        <td id=\"T_1cf8b8ab_bb68_11ec_96d2_ce386ba8abderow5_col2\" class=\"data row5 col2\" >83,687,500.0</td>\n",
       "            </tr>\n",
       "            <tr>\n",
       "                        <th id=\"T_1cf8b8ab_bb68_11ec_96d2_ce386ba8abdelevel0_row6\" class=\"row_heading level0 row6\" >75%</th>\n",
       "                        <td id=\"T_1cf8b8ab_bb68_11ec_96d2_ce386ba8abderow6_col0\" class=\"data row6 col0\" >85,541,562.5</td>\n",
       "                        <td id=\"T_1cf8b8ab_bb68_11ec_96d2_ce386ba8abderow6_col1\" class=\"data row6 col1\" >2,925,264.75</td>\n",
       "                        <td id=\"T_1cf8b8ab_bb68_11ec_96d2_ce386ba8abderow6_col2\" class=\"data row6 col2\" >85,450,000.0</td>\n",
       "            </tr>\n",
       "            <tr>\n",
       "                        <th id=\"T_1cf8b8ab_bb68_11ec_96d2_ce386ba8abdelevel0_row7\" class=\"row_heading level0 row7\" >max</th>\n",
       "                        <td id=\"T_1cf8b8ab_bb68_11ec_96d2_ce386ba8abderow7_col0\" class=\"data row7 col0\" >94,343,000.0</td>\n",
       "                        <td id=\"T_1cf8b8ab_bb68_11ec_96d2_ce386ba8abderow7_col1\" class=\"data row7 col1\" >3,242,155.0</td>\n",
       "                        <td id=\"T_1cf8b8ab_bb68_11ec_96d2_ce386ba8abderow7_col2\" class=\"data row7 col2\" >93,850,000.0</td>\n",
       "            </tr>\n",
       "    </tbody></table>"
      ],
      "text/plain": [
       "<pandas.io.formats.style.Styler at 0x1b78f940>"
      ]
     },
     "execution_count": 10,
     "metadata": {},
     "output_type": "execute_result"
    }
   ],
   "source": [
    "results_df.describe().style.format('{:,}')"
   ]
  },
  {
   "cell_type": "markdown",
   "metadata": {},
   "source": [
    "We can see that the average commission expense is 2.85M and the standard deviation is 104K.\n",
    "The commission expense can be as low as 2.5M, or as high as 3.1M."
   ]
  },
  {
   "cell_type": "code",
   "execution_count": null,
   "metadata": {},
   "outputs": [],
   "source": []
  }
 ],
 "metadata": {
  "kernelspec": {
   "display_name": "Python 3",
   "language": "python",
   "name": "python3"
  },
  "language_info": {
   "codemirror_mode": {
    "name": "ipython",
    "version": 3
   },
   "file_extension": ".py",
   "mimetype": "text/x-python",
   "name": "python",
   "nbconvert_exporter": "python",
   "pygments_lexer": "ipython3",
   "version": "3.8.5"
  }
 },
 "nbformat": 4,
 "nbformat_minor": 4
}
