{
 "cells": [
  {
   "cell_type": "markdown",
   "metadata": {},
   "source": [
    "# Recommender System Examples: Grocery Customers\n",
    "Building Recommender Systems: \n",
    "- \"SmartBasket\" - reminds customers of items they like and may have forgotten, &\n",
    "- \"Do You Want To Try?\" - suggests new items to customers\n"
   ]
  },
  {
   "cell_type": "markdown",
   "metadata": {},
   "source": [
    "#### Libraries"
   ]
  },
  {
   "cell_type": "code",
   "execution_count": 1,
   "metadata": {},
   "outputs": [],
   "source": [
    "import pandas as pd\n",
    "import numpy as np\n",
    "import seaborn as sns\n",
    "import matplotlib.pyplot as plt\n",
    "import scipy.sparse as sparse\n",
    "import random\n",
    "import implicit\n",
    "from sklearn.preprocessing import MinMaxScaler\n",
    "from surprise import Reader, Dataset, SVD, SVDpp, SlopeOne, KNNBasic, KNNWithMeans, KNNBaseline, CoClustering, BaselineOnly, NormalPredictor\n",
    "from surprise.model_selection.validation import cross_validate\n",
    "\n",
    "from IPython.core.interactiveshell import InteractiveShell\n",
    "InteractiveShell.ast_node_interactivity = \"all\""
   ]
  },
  {
   "cell_type": "markdown",
   "metadata": {},
   "source": [
    "#### Read in data"
   ]
  },
  {
   "cell_type": "code",
   "execution_count": 2,
   "metadata": {},
   "outputs": [
    {
     "data": {
      "text/html": [
       "<div>\n",
       "<style scoped>\n",
       "    .dataframe tbody tr th:only-of-type {\n",
       "        vertical-align: middle;\n",
       "    }\n",
       "\n",
       "    .dataframe tbody tr th {\n",
       "        vertical-align: top;\n",
       "    }\n",
       "\n",
       "    .dataframe thead th {\n",
       "        text-align: right;\n",
       "    }\n",
       "</style>\n",
       "<table border=\"1\" class=\"dataframe\">\n",
       "  <thead>\n",
       "    <tr style=\"text-align: right;\">\n",
       "      <th></th>\n",
       "      <th>Member</th>\n",
       "      <th>Order</th>\n",
       "      <th>SKU</th>\n",
       "      <th>Created On</th>\n",
       "      <th>Description</th>\n",
       "    </tr>\n",
       "  </thead>\n",
       "  <tbody>\n",
       "    <tr>\n",
       "      <th>0</th>\n",
       "      <td>M09736</td>\n",
       "      <td>6468572</td>\n",
       "      <td>34993740</td>\n",
       "      <td>2014-09-22 22:45:00</td>\n",
       "      <td>Other Sauces</td>\n",
       "    </tr>\n",
       "    <tr>\n",
       "      <th>1</th>\n",
       "      <td>M09736</td>\n",
       "      <td>6468572</td>\n",
       "      <td>15669800</td>\n",
       "      <td>2014-09-22 22:45:00</td>\n",
       "      <td>Cashews</td>\n",
       "    </tr>\n",
       "    <tr>\n",
       "      <th>2</th>\n",
       "      <td>M09736</td>\n",
       "      <td>6468572</td>\n",
       "      <td>34989501</td>\n",
       "      <td>2014-09-22 22:45:00</td>\n",
       "      <td>Other Dals</td>\n",
       "    </tr>\n",
       "    <tr>\n",
       "      <th>3</th>\n",
       "      <td>M09736</td>\n",
       "      <td>6468572</td>\n",
       "      <td>7572303</td>\n",
       "      <td>2014-09-22 22:45:00</td>\n",
       "      <td>Namkeen</td>\n",
       "    </tr>\n",
       "    <tr>\n",
       "      <th>4</th>\n",
       "      <td>M09736</td>\n",
       "      <td>6468572</td>\n",
       "      <td>15669856</td>\n",
       "      <td>2014-09-22 22:45:00</td>\n",
       "      <td>Sugar</td>\n",
       "    </tr>\n",
       "  </tbody>\n",
       "</table>\n",
       "</div>"
      ],
      "text/plain": [
       "   Member    Order       SKU          Created On   Description\n",
       "0  M09736  6468572  34993740 2014-09-22 22:45:00  Other Sauces\n",
       "1  M09736  6468572  15669800 2014-09-22 22:45:00       Cashews\n",
       "2  M09736  6468572  34989501 2014-09-22 22:45:00    Other Dals\n",
       "3  M09736  6468572   7572303 2014-09-22 22:45:00       Namkeen\n",
       "4  M09736  6468572  15669856 2014-09-22 22:45:00         Sugar"
      ]
     },
     "execution_count": 2,
     "metadata": {},
     "output_type": "execute_result"
    }
   ],
   "source": [
    "df = pd.read_csv('C:/Users/scarl/Documents/Data/Grocery_Exhibits.csv',  \n",
    "                   parse_dates=['Created On'])\n",
    "\n",
    "df.head()"
   ]
  },
  {
   "cell_type": "markdown",
   "metadata": {},
   "source": [
    "#### Data cleaning"
   ]
  },
  {
   "cell_type": "code",
   "execution_count": 3,
   "metadata": {},
   "outputs": [
    {
     "data": {
      "text/html": [
       "<div>\n",
       "<style scoped>\n",
       "    .dataframe tbody tr th:only-of-type {\n",
       "        vertical-align: middle;\n",
       "    }\n",
       "\n",
       "    .dataframe tbody tr th {\n",
       "        vertical-align: top;\n",
       "    }\n",
       "\n",
       "    .dataframe thead th {\n",
       "        text-align: right;\n",
       "    }\n",
       "</style>\n",
       "<table border=\"1\" class=\"dataframe\">\n",
       "  <thead>\n",
       "    <tr style=\"text-align: right;\">\n",
       "      <th></th>\n",
       "      <th>Member</th>\n",
       "      <th>Description</th>\n",
       "      <th>Sales</th>\n",
       "    </tr>\n",
       "  </thead>\n",
       "  <tbody>\n",
       "    <tr>\n",
       "      <th>0</th>\n",
       "      <td>9736</td>\n",
       "      <td>Other_Sauces</td>\n",
       "      <td>1</td>\n",
       "    </tr>\n",
       "    <tr>\n",
       "      <th>1</th>\n",
       "      <td>9736</td>\n",
       "      <td>Cashews</td>\n",
       "      <td>1</td>\n",
       "    </tr>\n",
       "    <tr>\n",
       "      <th>2</th>\n",
       "      <td>9736</td>\n",
       "      <td>Other_Dals</td>\n",
       "      <td>1</td>\n",
       "    </tr>\n",
       "    <tr>\n",
       "      <th>3</th>\n",
       "      <td>9736</td>\n",
       "      <td>Namkeen</td>\n",
       "      <td>1</td>\n",
       "    </tr>\n",
       "    <tr>\n",
       "      <th>4</th>\n",
       "      <td>9736</td>\n",
       "      <td>Sugar</td>\n",
       "      <td>1</td>\n",
       "    </tr>\n",
       "  </tbody>\n",
       "</table>\n",
       "</div>"
      ],
      "text/plain": [
       "   Member   Description  Sales\n",
       "0    9736  Other_Sauces      1\n",
       "1    9736       Cashews      1\n",
       "2    9736    Other_Dals      1\n",
       "3    9736       Namkeen      1\n",
       "4    9736         Sugar      1"
      ]
     },
     "execution_count": 3,
     "metadata": {},
     "output_type": "execute_result"
    }
   ],
   "source": [
    "df = df.replace(['CFLs,cfls,7832553,2,0\\r\\n7831582,Channa Dal,channa-dal,7832491,2,0\\r\\n7832360,Cheese,cheese,7832363,2,0\\r\\n7831689,Chewing Gum,chewing-gum,7831685,2,0\\r\\n7832047,ChildrenS Books'],'CFLs')\n",
    "df.columns = df.columns.str.replace(' ','_') # removing spaces from feature names\n",
    "df.Description = df.Description.str.replace(' ','_') # removing spaces from values\n",
    "\n",
    "df.drop(['Order', 'SKU', 'Created_On'], axis=1, inplace=True) # dropping unncessessary features\n",
    "\n",
    "df['Member'] = df['Member'].str[1:] # removing non-numerics from Member identifier\n",
    "df['Member'] = pd.to_numeric(df['Member']) # converting to numeric\n",
    "\n",
    "df['Sales'] = 1 # adding indicator\n",
    "\n",
    "df.head()"
   ]
  },
  {
   "cell_type": "markdown",
   "metadata": {},
   "source": [
    "### Model 1: Did You Forget?\n",
    "- This recommender system is built using collaborative filtering with implicit feedback.\n",
    "- <i>Total</i> weights each members preference towards each item they have historically purchased. Each time the Member purchases an item, Total increases by 1.\n",
    "- The model suggests recommendations to the customer based on their historic shopping patterns - the more time an item has been purchased, the higher we rate their preference towards that item.\n",
    "- For example: Member 33064's most frequently purchased item is coffee, therefore, SmartBasket will remind Member 33064 to purchase coffee before checking out.\n",
    "- We can adjust the number of recommendations made. It is currently set to 10, but an ideal number might be 20."
   ]
  },
  {
   "cell_type": "markdown",
   "metadata": {},
   "source": [
    "#### Did You Forget?: Feature Engineering & Preprocessing"
   ]
  },
  {
   "cell_type": "code",
   "execution_count": 4,
   "metadata": {},
   "outputs": [
    {
     "data": {
      "text/html": [
       "<div>\n",
       "<style scoped>\n",
       "    .dataframe tbody tr th:only-of-type {\n",
       "        vertical-align: middle;\n",
       "    }\n",
       "\n",
       "    .dataframe tbody tr th {\n",
       "        vertical-align: top;\n",
       "    }\n",
       "\n",
       "    .dataframe thead th {\n",
       "        text-align: right;\n",
       "    }\n",
       "</style>\n",
       "<table border=\"1\" class=\"dataframe\">\n",
       "  <thead>\n",
       "    <tr style=\"text-align: right;\">\n",
       "      <th></th>\n",
       "      <th>Member</th>\n",
       "      <th>Description</th>\n",
       "      <th>Sales</th>\n",
       "    </tr>\n",
       "  </thead>\n",
       "  <tbody>\n",
       "    <tr>\n",
       "      <th>0</th>\n",
       "      <td>4158</td>\n",
       "      <td>Almonds</td>\n",
       "      <td>8</td>\n",
       "    </tr>\n",
       "    <tr>\n",
       "      <th>1</th>\n",
       "      <td>4158</td>\n",
       "      <td>Aluminium_Foil_&amp;_Cling_Wrap</td>\n",
       "      <td>9</td>\n",
       "    </tr>\n",
       "    <tr>\n",
       "      <th>2</th>\n",
       "      <td>4158</td>\n",
       "      <td>Avalakki_/_Poha</td>\n",
       "      <td>2</td>\n",
       "    </tr>\n",
       "    <tr>\n",
       "      <th>3</th>\n",
       "      <td>4158</td>\n",
       "      <td>Baking_Ingredients</td>\n",
       "      <td>2</td>\n",
       "    </tr>\n",
       "    <tr>\n",
       "      <th>4</th>\n",
       "      <td>4158</td>\n",
       "      <td>Banana</td>\n",
       "      <td>26</td>\n",
       "    </tr>\n",
       "  </tbody>\n",
       "</table>\n",
       "</div>"
      ],
      "text/plain": [
       "   Member                  Description  Sales\n",
       "0    4158                      Almonds      8\n",
       "1    4158  Aluminium_Foil_&_Cling_Wrap      9\n",
       "2    4158              Avalakki_/_Poha      2\n",
       "3    4158           Baking_Ingredients      2\n",
       "4    4158                       Banana     26"
      ]
     },
     "execution_count": 4,
     "metadata": {},
     "output_type": "execute_result"
    }
   ],
   "source": [
    "df_user = df.groupby(['Member', 'Description'])['Sales'].count().reset_index()\n",
    "df_user.head()"
   ]
  },
  {
   "cell_type": "code",
   "execution_count": 5,
   "metadata": {},
   "outputs": [
    {
     "data": {
      "text/html": [
       "<div>\n",
       "<style scoped>\n",
       "    .dataframe tbody tr th:only-of-type {\n",
       "        vertical-align: middle;\n",
       "    }\n",
       "\n",
       "    .dataframe tbody tr th {\n",
       "        vertical-align: top;\n",
       "    }\n",
       "\n",
       "    .dataframe thead th {\n",
       "        text-align: right;\n",
       "    }\n",
       "</style>\n",
       "<table border=\"1\" class=\"dataframe\">\n",
       "  <thead>\n",
       "    <tr style=\"text-align: right;\">\n",
       "      <th></th>\n",
       "      <th>Member</th>\n",
       "      <th>Description</th>\n",
       "      <th>Sales</th>\n",
       "      <th>Description_ID</th>\n",
       "    </tr>\n",
       "  </thead>\n",
       "  <tbody>\n",
       "    <tr>\n",
       "      <th>0</th>\n",
       "      <td>4158</td>\n",
       "      <td>Almonds</td>\n",
       "      <td>8</td>\n",
       "      <td>2</td>\n",
       "    </tr>\n",
       "    <tr>\n",
       "      <th>1</th>\n",
       "      <td>4158</td>\n",
       "      <td>Aluminium_Foil_&amp;_Cling_Wrap</td>\n",
       "      <td>9</td>\n",
       "      <td>3</td>\n",
       "    </tr>\n",
       "    <tr>\n",
       "      <th>2</th>\n",
       "      <td>4158</td>\n",
       "      <td>Avalakki_/_Poha</td>\n",
       "      <td>2</td>\n",
       "      <td>5</td>\n",
       "    </tr>\n",
       "    <tr>\n",
       "      <th>3</th>\n",
       "      <td>4158</td>\n",
       "      <td>Baking_Ingredients</td>\n",
       "      <td>2</td>\n",
       "      <td>11</td>\n",
       "    </tr>\n",
       "    <tr>\n",
       "      <th>4</th>\n",
       "      <td>4158</td>\n",
       "      <td>Banana</td>\n",
       "      <td>26</td>\n",
       "      <td>12</td>\n",
       "    </tr>\n",
       "  </tbody>\n",
       "</table>\n",
       "</div>"
      ],
      "text/plain": [
       "   Member                  Description  Sales  Description_ID\n",
       "0    4158                      Almonds      8               2\n",
       "1    4158  Aluminium_Foil_&_Cling_Wrap      9               3\n",
       "2    4158              Avalakki_/_Poha      2               5\n",
       "3    4158           Baking_Ingredients      2              11\n",
       "4    4158                       Banana     26              12"
      ]
     },
     "execution_count": 5,
     "metadata": {},
     "output_type": "execute_result"
    }
   ],
   "source": [
    "# Convert descriptions into categorical codes\n",
    "df_user['Description'] = df_user['Description'].astype(\"category\")\n",
    "df_user['Description_ID'] = df_user['Description'].cat.codes\n",
    "\n",
    "df_user.head()"
   ]
  },
  {
   "cell_type": "markdown",
   "metadata": {},
   "source": [
    "#### Did You Forget?: Collaborative Filtering with Implicit Feedback using Alternating Least Squares (ALS)"
   ]
  },
  {
   "cell_type": "code",
   "execution_count": 6,
   "metadata": {},
   "outputs": [
    {
     "name": "stderr",
     "output_type": "stream",
     "text": [
      "WARNING:root:Intel MKL BLAS detected. Its highly recommend to set the environment variable 'export MKL_NUM_THREADS=1' to disable its internal multithreading\n"
     ]
    },
    {
     "data": {
      "application/vnd.jupyter.widget-view+json": {
       "model_id": "4810651fe3f1476d9d02a838fc503b29",
       "version_major": 2,
       "version_minor": 0
      },
      "text/plain": [
       "  0%|          | 0/50 [00:00<?, ?it/s]"
      ]
     },
     "metadata": {},
     "output_type": "display_data"
    }
   ],
   "source": [
    "sparse_description_member = sparse.csr_matrix((df_user['Sales'].astype(float), (df_user['Description_ID'], df_user['Member'])))\n",
    "sparse_member_description = sparse.csr_matrix((df_user['Sales'].astype(float), (df_user['Member'], df_user['Description_ID'])))\n",
    "\n",
    "model = implicit.als.AlternatingLeastSquares(factors=20, regularization=0.1, iterations=50)\n",
    "\n",
    "alpha = 15\n",
    "data = (sparse_description_member * alpha).astype('double')\n",
    "model.fit(data)"
   ]
  },
  {
   "cell_type": "markdown",
   "metadata": {},
   "source": [
    "#### Did You Forget?: Testing Model Output on Top 10 Most Frequently Purchased Items"
   ]
  },
  {
   "cell_type": "code",
   "execution_count": 7,
   "metadata": {},
   "outputs": [
    {
     "name": "stdout",
     "output_type": "stream",
     "text": [
      "Selected Description_ID is 135\n"
     ]
    }
   ],
   "source": [
    "Description_ID = df_user['Description_ID'].sample(random_state=42).to_string().split()[1]\n",
    "print('Selected Description_ID is {}'.format(str(Description_ID)))"
   ]
  },
  {
   "cell_type": "code",
   "execution_count": 8,
   "metadata": {},
   "outputs": [
    {
     "name": "stdout",
     "output_type": "stream",
     "text": [
      "Organic_Masalas_&_Spices\n",
      "Sunflower_Oils\n",
      "Chips\n",
      "Other_Sweets\n",
      "Honey\n",
      "Exotic_Vegetables\n",
      "Raw_Rice\n",
      "Raw_Peanuts\n",
      "Toor_Dal\n",
      "Urad_Dal\n"
     ]
    }
   ],
   "source": [
    "Description_ID = 135\n",
    "n_recs = 10\n",
    "\n",
    "member_vecs = model.user_factors\n",
    "description_vecs = model.item_factors\n",
    "\n",
    "description_norms = np.sqrt((description_vecs * description_vecs).sum(axis=1))\n",
    "\n",
    "scores = description_vecs.dot(description_vecs[Description_ID]) / description_norms\n",
    "top_idx = np.argpartition(scores, -n_recs)[-n_recs:]\n",
    "recs = sorted(zip(top_idx, scores[top_idx] / description_norms[Description_ID]), key=lambda x: -x[1])\n",
    "\n",
    "for item in recs:\n",
    "    idx, score = item\n",
    "    print(df_user['Description'].loc[df_user.Description_ID == idx].iloc[0])"
   ]
  },
  {
   "cell_type": "markdown",
   "metadata": {},
   "source": [
    "#### Did You Forget?: Creating a function that returns the Top 10 Most Frequently Purchased Items for each Member"
   ]
  },
  {
   "cell_type": "code",
   "execution_count": 9,
   "metadata": {},
   "outputs": [],
   "source": [
    "def smartbasket(Member, sparse_member_description, member_vecs, description_vecs, num_contents=10):\n",
    "    member_interactions = sparse_member_description[Member,:].toarray()\n",
    "    member_interactions = member_interactions.reshape(-1) + 1\n",
    "    #member_interactions[member_interactions > 1] = 0\n",
    "    rec_vector = member_vecs[Member,:].dot(description_vecs.T).toarray()\n",
    "    \n",
    "    min_max = MinMaxScaler()\n",
    "    rec_vector_scaled = min_max.fit_transform(rec_vector.reshape(-1,1))[:,0]\n",
    "    recommend_vector = member_interactions * rec_vector_scaled\n",
    "    description_idx = np.argsort(recommend_vector)[::-1][:num_contents]\n",
    "    \n",
    "    descriptions = []\n",
    "    scores = []\n",
    "    \n",
    "    for idx in description_idx:\n",
    "        descriptions.append(df_user.Description.loc[df_user.Description_ID == idx].iloc[0])\n",
    "        scores.append(recommend_vector[idx])\n",
    "        \n",
    "    smartbasket_recs = pd.DataFrame({'Description': descriptions, 'score': scores})\n",
    "    \n",
    "    return smartbasket_recs"
   ]
  },
  {
   "cell_type": "code",
   "execution_count": 10,
   "metadata": {},
   "outputs": [],
   "source": [
    "member_vecs = sparse.csr_matrix(model.user_factors)\n",
    "description_vecs = sparse.csr_matrix(model.item_factors)"
   ]
  },
  {
   "cell_type": "markdown",
   "metadata": {},
   "source": [
    "#### Did You Forget?: Testing Recommendations on Randomly Selected User"
   ]
  },
  {
   "cell_type": "code",
   "execution_count": 11,
   "metadata": {},
   "outputs": [
    {
     "name": "stdout",
     "output_type": "stream",
     "text": [
      "Selected User is Member #33064\n"
     ]
    }
   ],
   "source": [
    "# Selecting a random user\n",
    "user1 = df_user['Member'].sample(random_state=42).to_string().split()[1]\n",
    "print('Selected User is Member #{}'.format(str(user1)))"
   ]
  },
  {
   "cell_type": "code",
   "execution_count": 12,
   "metadata": {},
   "outputs": [
    {
     "name": "stdout",
     "output_type": "stream",
     "text": [
      "         Description       score\n",
      "0              Beans  137.960110\n",
      "1    Root_Vegetables  109.500932\n",
      "2       Whole_Spices   88.780283\n",
      "3   Gourd_&_Cucumber   84.426541\n",
      "4   Other_Vegetables   67.268288\n",
      "5  Exotic_Vegetables   58.596581\n",
      "6         Other_Dals   54.360309\n",
      "7          Moong_Dal   42.263751\n",
      "8           Brinjals   41.370598\n",
      "9           Toor_Dal   30.177912\n"
     ]
    }
   ],
   "source": [
    "# Testing Recommendations for Member=33064\n",
    "Member = 33064\n",
    "\n",
    "smartbasket_recs = smartbasket(Member, sparse_member_description, member_vecs, description_vecs)\n",
    "\n",
    "print(smartbasket_recs)"
   ]
  },
  {
   "cell_type": "markdown",
   "metadata": {},
   "source": [
    "### Model 2: Do You Want To Try?\n",
    "- This recommender system suggests <b>new</b> products to Members <i>(i.e. items they have never purchased before)</i> based on the preferences of Members with similar shopping profiles\n",
    "- For example: Helga often purchases coffee and bagels and Bill often purchased coffee and cream. <b>Do You Want To Try?</b> will suggest Helga tries cream while suggesting bagels to Bill.\n",
    "- We can adjust the number of recommendations made. It is currently set to 10, but an ideal number might be 20."
   ]
  },
  {
   "cell_type": "markdown",
   "metadata": {},
   "source": [
    "#### Do You Want To Try?: Feature Engineering & Preprocessing"
   ]
  },
  {
   "cell_type": "code",
   "execution_count": 13,
   "metadata": {},
   "outputs": [
    {
     "data": {
      "text/html": [
       "<div>\n",
       "<style scoped>\n",
       "    .dataframe tbody tr th:only-of-type {\n",
       "        vertical-align: middle;\n",
       "    }\n",
       "\n",
       "    .dataframe tbody tr th {\n",
       "        vertical-align: top;\n",
       "    }\n",
       "\n",
       "    .dataframe thead th {\n",
       "        text-align: right;\n",
       "    }\n",
       "</style>\n",
       "<table border=\"1\" class=\"dataframe\">\n",
       "  <thead>\n",
       "    <tr style=\"text-align: right;\">\n",
       "      <th></th>\n",
       "      <th>Member</th>\n",
       "      <th>Description</th>\n",
       "      <th>Sales</th>\n",
       "    </tr>\n",
       "  </thead>\n",
       "  <tbody>\n",
       "    <tr>\n",
       "      <th>0</th>\n",
       "      <td>9736</td>\n",
       "      <td>Other_Sauces</td>\n",
       "      <td>1</td>\n",
       "    </tr>\n",
       "    <tr>\n",
       "      <th>1</th>\n",
       "      <td>9736</td>\n",
       "      <td>Cashews</td>\n",
       "      <td>1</td>\n",
       "    </tr>\n",
       "    <tr>\n",
       "      <th>2</th>\n",
       "      <td>9736</td>\n",
       "      <td>Other_Dals</td>\n",
       "      <td>1</td>\n",
       "    </tr>\n",
       "    <tr>\n",
       "      <th>3</th>\n",
       "      <td>9736</td>\n",
       "      <td>Namkeen</td>\n",
       "      <td>1</td>\n",
       "    </tr>\n",
       "    <tr>\n",
       "      <th>4</th>\n",
       "      <td>9736</td>\n",
       "      <td>Sugar</td>\n",
       "      <td>1</td>\n",
       "    </tr>\n",
       "  </tbody>\n",
       "</table>\n",
       "</div>"
      ],
      "text/plain": [
       "   Member   Description  Sales\n",
       "0    9736  Other_Sauces      1\n",
       "1    9736       Cashews      1\n",
       "2    9736    Other_Dals      1\n",
       "3    9736       Namkeen      1\n",
       "4    9736         Sugar      1"
      ]
     },
     "execution_count": 13,
     "metadata": {},
     "output_type": "execute_result"
    }
   ],
   "source": [
    "df.head()"
   ]
  },
  {
   "cell_type": "code",
   "execution_count": 15,
   "metadata": {},
   "outputs": [
    {
     "data": {
      "text/html": [
       "<div>\n",
       "<style scoped>\n",
       "    .dataframe tbody tr th:only-of-type {\n",
       "        vertical-align: middle;\n",
       "    }\n",
       "\n",
       "    .dataframe tbody tr th {\n",
       "        vertical-align: top;\n",
       "    }\n",
       "\n",
       "    .dataframe thead th {\n",
       "        text-align: right;\n",
       "    }\n",
       "</style>\n",
       "<table border=\"1\" class=\"dataframe\">\n",
       "  <thead>\n",
       "    <tr style=\"text-align: right;\">\n",
       "      <th></th>\n",
       "      <th>Member</th>\n",
       "      <th>Description</th>\n",
       "      <th>Rating</th>\n",
       "    </tr>\n",
       "  </thead>\n",
       "  <tbody>\n",
       "    <tr>\n",
       "      <th>0</th>\n",
       "      <td>4158</td>\n",
       "      <td>Almonds</td>\n",
       "      <td>2.079442</td>\n",
       "    </tr>\n",
       "    <tr>\n",
       "      <th>1</th>\n",
       "      <td>4158</td>\n",
       "      <td>Aluminium_Foil_&amp;_Cling_Wrap</td>\n",
       "      <td>2.197225</td>\n",
       "    </tr>\n",
       "    <tr>\n",
       "      <th>2</th>\n",
       "      <td>4158</td>\n",
       "      <td>Avalakki_/_Poha</td>\n",
       "      <td>0.693147</td>\n",
       "    </tr>\n",
       "    <tr>\n",
       "      <th>3</th>\n",
       "      <td>4158</td>\n",
       "      <td>Baking_Ingredients</td>\n",
       "      <td>0.693147</td>\n",
       "    </tr>\n",
       "    <tr>\n",
       "      <th>4</th>\n",
       "      <td>4158</td>\n",
       "      <td>Banana</td>\n",
       "      <td>3.258097</td>\n",
       "    </tr>\n",
       "  </tbody>\n",
       "</table>\n",
       "</div>"
      ],
      "text/plain": [
       "   Member                  Description    Rating\n",
       "0    4158                      Almonds  2.079442\n",
       "1    4158  Aluminium_Foil_&_Cling_Wrap  2.197225\n",
       "2    4158              Avalakki_/_Poha  0.693147\n",
       "3    4158           Baking_Ingredients  0.693147\n",
       "4    4158                       Banana  3.258097"
      ]
     },
     "execution_count": 15,
     "metadata": {},
     "output_type": "execute_result"
    }
   ],
   "source": [
    "df_colab = df.groupby(['Member', 'Description'])['Sales'].count().reset_index()\n",
    "df_colab['Rating'] = np.log(df_colab['Sales'])\n",
    "df_colab.drop(['Sales'],axis=1,inplace=True)\n",
    "df_colab.head()"
   ]
  },
  {
   "cell_type": "code",
   "execution_count": 16,
   "metadata": {},
   "outputs": [
    {
     "data": {
      "image/png": "[encoded data removed]",
      "text/plain": [
       "<Figure size 720x360 with 1 Axes>"
      ]
     },
     "metadata": {
      "needs_background": "light"
     },
     "output_type": "display_data"
    }
   ],
   "source": [
    "fig, axis = plt.subplots(figsize=(10,5))\n",
    "axis = sns.histplot(x='Rating',data=df_colab)"
   ]
  },
  {
   "cell_type": "code",
   "execution_count": 17,
   "metadata": {},
   "outputs": [],
   "source": [
    "reader = Reader()\n",
    "data = Dataset.load_from_df(df_colab[['Member','Description','Rating']], reader)"
   ]
  },
  {
   "cell_type": "markdown",
   "metadata": {},
   "source": [
    "#### Do You Want To Try?: Cross Validation"
   ]
  },
  {
   "cell_type": "code",
   "execution_count": 18,
   "metadata": {},
   "outputs": [
    {
     "name": "stdout",
     "output_type": "stream",
     "text": [
      "Evaluating RMSE, MAE of algorithm SVD on 5 split(s).\n",
      "\n",
      "                  Fold 1  Fold 2  Fold 3  Fold 4  Fold 5  Mean    Std     \n",
      "RMSE (testset)    0.9789  0.9535  1.0081  0.9965  0.9964  0.9867  0.0190  \n",
      "MAE (testset)     0.8238  0.8070  0.8471  0.8380  0.8218  0.8275  0.0139  \n",
      "Fit time          0.22    0.22    0.22    0.22    0.23    0.22    0.01    \n",
      "Test time         0.01    0.01    0.01    0.01    0.01    0.01    0.00    \n"
     ]
    },
    {
     "data": {
      "text/plain": [
       "{'test_rmse': array([0.97888744, 0.95351519, 1.00812073, 0.99647736, 0.99641681]),\n",
       " 'test_mae': array([0.82383538, 0.80696748, 0.84708179, 0.83802483, 0.82182654]),\n",
       " 'fit_time': (0.21793174743652344,\n",
       "  0.21645426750183105,\n",
       "  0.2174816131591797,\n",
       "  0.2244570255279541,\n",
       "  0.23041486740112305),\n",
       " 'test_time': (0.007954120635986328,\n",
       "  0.006960630416870117,\n",
       "  0.006011009216308594,\n",
       "  0.01198720932006836,\n",
       "  0.006002664566040039)}"
      ]
     },
     "execution_count": 18,
     "metadata": {},
     "output_type": "execute_result"
    },
    {
     "name": "stdout",
     "output_type": "stream",
     "text": [
      "Evaluating RMSE, MAE of algorithm SVDpp on 5 split(s).\n",
      "\n",
      "                  Fold 1  Fold 2  Fold 3  Fold 4  Fold 5  Mean    Std     \n",
      "RMSE (testset)    0.9876  0.9484  0.9977  0.9566  0.9753  0.9731  0.0184  \n",
      "MAE (testset)     0.8303  0.7852  0.8286  0.7960  0.8149  0.8110  0.0178  \n",
      "Fit time          2.63    2.58    2.54    2.54    2.69    2.59    0.06    \n",
      "Test time         0.05    0.05    0.05    0.05    0.05    0.05    0.00    \n"
     ]
    },
    {
     "data": {
      "text/plain": [
       "{'test_rmse': array([0.98756492, 0.94840364, 0.99767075, 0.95663197, 0.97528283]),\n",
       " 'test_mae': array([0.83026237, 0.78518481, 0.82859634, 0.79602116, 0.81492804]),\n",
       " 'fit_time': (2.6342384815216064,\n",
       "  2.575570821762085,\n",
       "  2.5357089042663574,\n",
       "  2.5365798473358154,\n",
       "  2.6916515827178955),\n",
       " 'test_time': (0.04888319969177246,\n",
       "  0.050902605056762695,\n",
       "  0.04886937141418457,\n",
       "  0.049866437911987305,\n",
       "  0.05184221267700195)}"
      ]
     },
     "execution_count": 18,
     "metadata": {},
     "output_type": "execute_result"
    },
    {
     "name": "stdout",
     "output_type": "stream",
     "text": [
      "Evaluating RMSE, MAE of algorithm SlopeOne on 5 split(s).\n",
      "\n",
      "                  Fold 1  Fold 2  Fold 3  Fold 4  Fold 5  Mean    Std     \n",
      "RMSE (testset)    0.9748  0.9875  0.9869  0.9567  1.0139  0.9840  0.0187  \n",
      "MAE (testset)     0.8181  0.8349  0.8337  0.8100  0.8415  0.8276  0.0117  \n",
      "Fit time          0.01    0.01    0.01    0.01    0.01    0.01    0.00    \n",
      "Test time         0.04    0.03    0.03    0.03    0.03    0.04    0.00    \n"
     ]
    },
    {
     "data": {
      "text/plain": [
       "{'test_rmse': array([0.97484196, 0.98750596, 0.98689412, 0.95666857, 1.01391763]),\n",
       " 'test_mae': array([0.81810853, 0.83489822, 0.83370502, 0.81      , 0.84150937]),\n",
       " 'fit_time': (0.013964176177978516,\n",
       "  0.007958650588989258,\n",
       "  0.006982326507568359,\n",
       "  0.0069849491119384766,\n",
       "  0.00799107551574707),\n",
       " 'test_time': (0.04288768768310547,\n",
       "  0.03390240669250488,\n",
       "  0.03487133979797363,\n",
       "  0.03488302230834961,\n",
       "  0.034921884536743164)}"
      ]
     },
     "execution_count": 18,
     "metadata": {},
     "output_type": "execute_result"
    },
    {
     "name": "stdout",
     "output_type": "stream",
     "text": [
      "Computing the msd similarity matrix...\n",
      "Done computing similarity matrix.\n",
      "Computing the msd similarity matrix...\n",
      "Done computing similarity matrix.\n",
      "Computing the msd similarity matrix...\n",
      "Done computing similarity matrix.\n",
      "Computing the msd similarity matrix...\n",
      "Done computing similarity matrix.\n",
      "Computing the msd similarity matrix...\n",
      "Done computing similarity matrix.\n",
      "Evaluating RMSE, MAE of algorithm KNNBasic on 5 split(s).\n",
      "\n",
      "                  Fold 1  Fold 2  Fold 3  Fold 4  Fold 5  Mean    Std     \n",
      "RMSE (testset)    0.9422  0.9993  1.0083  0.9784  0.9788  0.9814  0.0228  \n",
      "MAE (testset)     0.7879  0.8429  0.8461  0.8162  0.8041  0.8194  0.0224  \n",
      "Fit time          0.01    0.02    0.01    0.01    0.01    0.01    0.00    \n",
      "Test time         0.08    0.08    0.08    0.09    0.09    0.09    0.00    \n"
     ]
    },
    {
     "data": {
      "text/plain": [
       "{'test_rmse': array([0.94220338, 0.99928174, 1.00825124, 0.97843405, 0.97876305]),\n",
       " 'test_mae': array([0.78785751, 0.84294228, 0.8460629 , 0.81621392, 0.80407984]),\n",
       " 'fit_time': (0.012950897216796875,\n",
       "  0.015941619873046875,\n",
       "  0.014968633651733398,\n",
       "  0.012920379638671875,\n",
       "  0.013976812362670898),\n",
       " 'test_time': (0.08282017707824707,\n",
       "  0.08134961128234863,\n",
       "  0.08376955986022949,\n",
       "  0.09277224540710449,\n",
       "  0.08974623680114746)}"
      ]
     },
     "execution_count": 18,
     "metadata": {},
     "output_type": "execute_result"
    },
    {
     "name": "stdout",
     "output_type": "stream",
     "text": [
      "Computing the msd similarity matrix...\n",
      "Done computing similarity matrix.\n",
      "Computing the msd similarity matrix...\n",
      "Done computing similarity matrix.\n",
      "Computing the msd similarity matrix...\n",
      "Done computing similarity matrix.\n",
      "Computing the msd similarity matrix...\n",
      "Done computing similarity matrix.\n",
      "Computing the msd similarity matrix...\n",
      "Done computing similarity matrix.\n",
      "Evaluating RMSE, MAE of algorithm KNNWithMeans on 5 split(s).\n",
      "\n",
      "                  Fold 1  Fold 2  Fold 3  Fold 4  Fold 5  Mean    Std     \n",
      "RMSE (testset)    0.9703  0.9420  1.0038  0.9929  1.0049  0.9828  0.0239  \n",
      "MAE (testset)     0.7973  0.7885  0.8475  0.8242  0.8370  0.8189  0.0226  \n",
      "Fit time          0.02    0.02    0.02    0.02    0.02    0.02    0.00    \n",
      "Test time         0.11    0.11    0.11    0.13    0.13    0.12    0.01    \n"
     ]
    },
    {
     "data": {
      "text/plain": [
       "{'test_rmse': array([0.97033612, 0.94199162, 1.00381444, 0.9929277 , 1.00491683]),\n",
       " 'test_mae': array([0.79729704, 0.78848526, 0.84745139, 0.82418908, 0.83699819]),\n",
       " 'fit_time': (0.0169827938079834,\n",
       "  0.017960786819458008,\n",
       "  0.015981197357177734,\n",
       "  0.01876997947692871,\n",
       "  0.01695418357849121),\n",
       " 'test_time': (0.11067318916320801,\n",
       "  0.10772323608398438,\n",
       "  0.10919642448425293,\n",
       "  0.12567591667175293,\n",
       "  0.12671685218811035)}"
      ]
     },
     "execution_count": 18,
     "metadata": {},
     "output_type": "execute_result"
    },
    {
     "name": "stdout",
     "output_type": "stream",
     "text": [
      "Estimating biases using als...\n",
      "Computing the msd similarity matrix...\n",
      "Done computing similarity matrix.\n",
      "Estimating biases using als...\n",
      "Computing the msd similarity matrix...\n",
      "Done computing similarity matrix.\n",
      "Estimating biases using als...\n",
      "Computing the msd similarity matrix...\n",
      "Done computing similarity matrix.\n",
      "Estimating biases using als...\n",
      "Computing the msd similarity matrix...\n",
      "Done computing similarity matrix.\n",
      "Estimating biases using als...\n",
      "Computing the msd similarity matrix...\n",
      "Done computing similarity matrix.\n",
      "Evaluating RMSE, MAE of algorithm KNNBaseline on 5 split(s).\n",
      "\n",
      "                  Fold 1  Fold 2  Fold 3  Fold 4  Fold 5  Mean    Std     \n",
      "RMSE (testset)    0.9791  0.9518  0.9728  1.0017  0.9772  0.9765  0.0159  \n",
      "MAE (testset)     0.8170  0.7919  0.8079  0.8316  0.8262  0.8149  0.0141  \n",
      "Fit time          0.02    0.02    0.02    0.02    0.02    0.02    0.00    \n",
      "Test time         0.18    0.14    0.14    0.14    0.14    0.15    0.02    \n"
     ]
    },
    {
     "data": {
      "text/plain": [
       "{'test_rmse': array([0.97912615, 0.95176454, 0.97277325, 1.00169936, 0.97721049]),\n",
       " 'test_mae': array([0.81695192, 0.79191625, 0.80794926, 0.83164073, 0.82616695]),\n",
       " 'fit_time': (0.02094244956970215,\n",
       "  0.01795649528503418,\n",
       "  0.01797938346862793,\n",
       "  0.018955230712890625,\n",
       "  0.01796269416809082),\n",
       " 'test_time': (0.1807103157043457,\n",
       "  0.14261651039123535,\n",
       "  0.14458727836608887,\n",
       "  0.13862013816833496,\n",
       "  0.14458489418029785)}"
      ]
     },
     "execution_count": 18,
     "metadata": {},
     "output_type": "execute_result"
    },
    {
     "name": "stdout",
     "output_type": "stream",
     "text": [
      "Evaluating RMSE, MAE of algorithm CoClustering on 5 split(s).\n",
      "\n",
      "                  Fold 1  Fold 2  Fold 3  Fold 4  Fold 5  Mean    Std     \n",
      "RMSE (testset)    1.0243  1.0397  1.0380  1.0387  1.0260  1.0333  0.0067  \n",
      "MAE (testset)     0.8548  0.8797  0.8883  0.8726  0.8668  0.8724  0.0113  \n",
      "Fit time          0.11    0.10    0.10    0.10    0.10    0.10    0.00    \n",
      "Test time         0.01    0.01    0.01    0.01    0.01    0.01    0.00    \n"
     ]
    },
    {
     "data": {
      "text/plain": [
       "{'test_rmse': array([1.02430495, 1.03967974, 1.03802876, 1.03865651, 1.02596959]),\n",
       " 'test_mae': array([0.85482974, 0.87965509, 0.88826664, 0.87261742, 0.86684695]),\n",
       " 'fit_time': (0.10771584510803223,\n",
       "  0.10274767875671387,\n",
       "  0.10076689720153809,\n",
       "  0.10071825981140137,\n",
       "  0.09972929954528809),\n",
       " 'test_time': (0.006015777587890625,\n",
       "  0.0059740543365478516,\n",
       "  0.005961179733276367,\n",
       "  0.0060155391693115234,\n",
       "  0.0050029754638671875)}"
      ]
     },
     "execution_count": 18,
     "metadata": {},
     "output_type": "execute_result"
    },
    {
     "name": "stdout",
     "output_type": "stream",
     "text": [
      "Estimating biases using als...\n",
      "Estimating biases using als...\n",
      "Estimating biases using als...\n",
      "Estimating biases using als...\n",
      "Estimating biases using als...\n",
      "Evaluating RMSE, MAE of algorithm BaselineOnly on 5 split(s).\n",
      "\n",
      "                  Fold 1  Fold 2  Fold 3  Fold 4  Fold 5  Mean    Std     \n",
      "RMSE (testset)    0.9979  1.0051  0.9534  1.0114  0.9673  0.9870  0.0226  \n",
      "MAE (testset)     0.8425  0.8396  0.8073  0.8592  0.8131  0.8323  0.0194  \n",
      "Fit time          0.00    0.00    0.00    0.00    0.00    0.00    0.00    \n",
      "Test time         0.00    0.01    0.00    0.00    0.00    0.00    0.00    \n"
     ]
    },
    {
     "data": {
      "text/plain": [
       "{'test_rmse': array([0.99786064, 1.00505302, 0.95344115, 1.01144557, 0.96728766]),\n",
       " 'test_mae': array([0.84249139, 0.83959227, 0.80725857, 0.85921863, 0.81314582]),\n",
       " 'fit_time': (0.003981351852416992,\n",
       "  0.00298309326171875,\n",
       "  0.004008054733276367,\n",
       "  0.003987312316894531,\n",
       "  0.003021717071533203),\n",
       " 'test_time': (0.004015445709228516,\n",
       "  0.005023479461669922,\n",
       "  0.004967689514160156,\n",
       "  0.004014015197753906,\n",
       "  0.00399327278137207)}"
      ]
     },
     "execution_count": 18,
     "metadata": {},
     "output_type": "execute_result"
    },
    {
     "name": "stdout",
     "output_type": "stream",
     "text": [
      "Evaluating RMSE, MAE of algorithm NormalPredictor on 5 split(s).\n",
      "\n",
      "                  Fold 1  Fold 2  Fold 3  Fold 4  Fold 5  Mean    Std     \n",
      "RMSE (testset)    1.5811  1.5914  1.5991  1.5695  1.6381  1.5958  0.0233  \n",
      "MAE (testset)     1.2999  1.3043  1.2983  1.2863  1.3461  1.3070  0.0204  \n",
      "Fit time          0.01    0.01    0.01    0.01    0.01    0.01    0.00    \n",
      "Test time         0.01    0.01    0.01    0.01    0.01    0.01    0.00    \n"
     ]
    },
    {
     "data": {
      "text/plain": [
       "{'test_rmse': array([1.58112375, 1.59139358, 1.59908493, 1.56949332, 1.63805212]),\n",
       " 'test_mae': array([1.29986856, 1.30428164, 1.29831033, 1.28634463, 1.34608641]),\n",
       " 'fit_time': (0.006983280181884766,\n",
       "  0.005988597869873047,\n",
       "  0.0060002803802490234,\n",
       "  0.005966663360595703,\n",
       "  0.006981372833251953),\n",
       " 'test_time': (0.007977485656738281,\n",
       "  0.007997512817382812,\n",
       "  0.006978034973144531,\n",
       "  0.006978750228881836,\n",
       "  0.006981372833251953)}"
      ]
     },
     "execution_count": 18,
     "metadata": {},
     "output_type": "execute_result"
    }
   ],
   "source": [
    "cross_validate(SVD(), data, measures=['RMSE', 'MAE'], cv=5, verbose=True)\n",
    "cross_validate(SVDpp(), data, measures=['RMSE', 'MAE'], cv=5, verbose=True)\n",
    "cross_validate(SlopeOne(), data, measures=['RMSE', 'MAE'], cv=5, verbose=True)\n",
    "cross_validate(KNNBasic(), data, measures=['RMSE', 'MAE'], cv=5, verbose=True)\n",
    "cross_validate(KNNWithMeans(), data, measures=['RMSE', 'MAE'], cv=5, verbose=True)\n",
    "cross_validate(KNNBaseline(), data, measures=['RMSE', 'MAE'], cv=5, verbose=True)\n",
    "cross_validate(CoClustering(), data, measures=['RMSE', 'MAE'], cv=5, verbose=True)\n",
    "cross_validate(BaselineOnly(), data, measures=['RMSE', 'MAE'], cv=5, verbose=True)\n",
    "cross_validate(NormalPredictor(), data, measures=['RMSE', 'MAE'], cv=5, verbose=True)"
   ]
  },
  {
   "cell_type": "markdown",
   "metadata": {},
   "source": [
    "#### Do You Want To Try?: Make Recommendations"
   ]
  },
  {
   "cell_type": "code",
   "execution_count": 19,
   "metadata": {},
   "outputs": [
    {
     "name": "stdout",
     "output_type": "stream",
     "text": [
      "Selected User is user id #33064\n"
     ]
    }
   ],
   "source": [
    "user = df_colab['Member'].sample(random_state=42).to_string().split()[1]\n",
    "print('Selected User is user id #{}'.format(str(user)))"
   ]
  },
  {
   "cell_type": "code",
   "execution_count": 20,
   "metadata": {},
   "outputs": [
    {
     "data": {
      "text/plain": [
       "<surprise.prediction_algorithms.matrix_factorization.SVDpp at 0x27c1463e688>"
      ]
     },
     "execution_count": 20,
     "metadata": {},
     "output_type": "execute_result"
    },
    {
     "data": {
      "text/html": [
       "<div>\n",
       "<style scoped>\n",
       "    .dataframe tbody tr th:only-of-type {\n",
       "        vertical-align: middle;\n",
       "    }\n",
       "\n",
       "    .dataframe tbody tr th {\n",
       "        vertical-align: top;\n",
       "    }\n",
       "\n",
       "    .dataframe thead th {\n",
       "        text-align: right;\n",
       "    }\n",
       "</style>\n",
       "<table border=\"1\" class=\"dataframe\">\n",
       "  <thead>\n",
       "    <tr style=\"text-align: right;\">\n",
       "      <th></th>\n",
       "      <th>Description</th>\n",
       "      <th>Pred_Rating</th>\n",
       "      <th>Rating</th>\n",
       "    </tr>\n",
       "  </thead>\n",
       "  <tbody>\n",
       "    <tr>\n",
       "      <th>18</th>\n",
       "      <td>Organic_Dals_&amp;_Pulses</td>\n",
       "      <td>1.795119</td>\n",
       "      <td>NaN</td>\n",
       "    </tr>\n",
       "    <tr>\n",
       "      <th>20</th>\n",
       "      <td>Health_Drinks</td>\n",
       "      <td>1.773031</td>\n",
       "      <td>NaN</td>\n",
       "    </tr>\n",
       "    <tr>\n",
       "      <th>27</th>\n",
       "      <td>Organic_Baby_Foods</td>\n",
       "      <td>1.603677</td>\n",
       "      <td>NaN</td>\n",
       "    </tr>\n",
       "    <tr>\n",
       "      <th>32</th>\n",
       "      <td>Frozen_Chicken</td>\n",
       "      <td>1.550505</td>\n",
       "      <td>NaN</td>\n",
       "    </tr>\n",
       "    <tr>\n",
       "      <th>33</th>\n",
       "      <td>Ghee</td>\n",
       "      <td>1.537044</td>\n",
       "      <td>NaN</td>\n",
       "    </tr>\n",
       "    <tr>\n",
       "      <th>36</th>\n",
       "      <td>Cashews</td>\n",
       "      <td>1.523652</td>\n",
       "      <td>NaN</td>\n",
       "    </tr>\n",
       "    <tr>\n",
       "      <th>37</th>\n",
       "      <td>Instant_Noodles</td>\n",
       "      <td>1.512435</td>\n",
       "      <td>NaN</td>\n",
       "    </tr>\n",
       "    <tr>\n",
       "      <th>39</th>\n",
       "      <td>Organic_Flours</td>\n",
       "      <td>1.485985</td>\n",
       "      <td>NaN</td>\n",
       "    </tr>\n",
       "    <tr>\n",
       "      <th>41</th>\n",
       "      <td>Eggs</td>\n",
       "      <td>1.470736</td>\n",
       "      <td>NaN</td>\n",
       "    </tr>\n",
       "    <tr>\n",
       "      <th>42</th>\n",
       "      <td>Organic_Salt,Sugar_&amp;_Jaggery</td>\n",
       "      <td>1.446511</td>\n",
       "      <td>NaN</td>\n",
       "    </tr>\n",
       "  </tbody>\n",
       "</table>\n",
       "</div>"
      ],
      "text/plain": [
       "                     Description  Pred_Rating  Rating\n",
       "18         Organic_Dals_&_Pulses     1.795119     NaN\n",
       "20                 Health_Drinks     1.773031     NaN\n",
       "27            Organic_Baby_Foods     1.603677     NaN\n",
       "32                Frozen_Chicken     1.550505     NaN\n",
       "33                          Ghee     1.537044     NaN\n",
       "36                       Cashews     1.523652     NaN\n",
       "37               Instant_Noodles     1.512435     NaN\n",
       "39                Organic_Flours     1.485985     NaN\n",
       "41                          Eggs     1.470736     NaN\n",
       "42  Organic_Salt,Sugar_&_Jaggery     1.446511     NaN"
      ]
     },
     "execution_count": 20,
     "metadata": {},
     "output_type": "execute_result"
    }
   ],
   "source": [
    "svdpp = SVDpp()\n",
    "trainset = data.build_full_trainset()\n",
    "svdpp.fit(trainset)\n",
    "\n",
    "recom = pd.DataFrame(df['Description'].unique(),columns=['Description'])\n",
    "recom['Pred_Rating'] = recom['Description'].apply(lambda x: svdpp.predict(user,x).est)\n",
    "\n",
    "recom = recom.sort_values(by=['Pred_Rating'], ascending=False)\n",
    "user_df_colab = df_colab.loc[df_colab['Member']==33064]\n",
    "\n",
    "recom = pd.merge(recom, user_df_colab, on='Description', how='outer')\n",
    "recom[recom.isna().any(axis=1)][['Description','Pred_Rating','Rating']].head(10)"
   ]
  },
  {
   "cell_type": "markdown",
   "metadata": {},
   "source": [
    "#### Do You Want To Try?: Validation & Performance Measures"
   ]
  },
  {
   "cell_type": "code",
   "execution_count": 21,
   "metadata": {},
   "outputs": [
    {
     "data": {
      "image/png": "[encoded data removed]",
      "text/plain": [
       "<Figure size 720x576 with 1 Axes>"
      ]
     },
     "metadata": {
      "needs_background": "light"
     },
     "output_type": "display_data"
    }
   ],
   "source": [
    "fig, ax = plt.subplots(figsize=(10,8))\n",
    "ax = sns.scatterplot(x=recom['Rating'], y=recom['Pred_Rating'], data=recom)"
   ]
  }
 ],
 "metadata": {
  "kernelspec": {
   "display_name": "Python 3",
   "language": "python",
   "name": "python3"
  },
  "language_info": {
   "codemirror_mode": {
    "name": "ipython",
    "version": 3
   },
   "file_extension": ".py",
   "mimetype": "text/x-python",
   "name": "python",
   "nbconvert_exporter": "python",
   "pygments_lexer": "ipython3",
   "version": "3.8.5"
  }
 },
 "nbformat": 4,
 "nbformat_minor": 2
}
